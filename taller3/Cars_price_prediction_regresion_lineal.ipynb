{
  "cells": [
    {
      "cell_type": "markdown",
      "metadata": {
        "id": "view-in-github",
        "colab_type": "text"
      },
      "source": [
        "<a href=\"https://colab.research.google.com/github/RAAT1992/seminario_bigdata/blob/main/taller3/Cars_price_prediction_regresion_lineal.ipynb\" target=\"_parent\"><img src=\"https://colab.research.google.com/assets/colab-badge.svg\" alt=\"Open In Colab\"/></a>"
      ]
    },
    {
      "cell_type": "code",
      "source": [],
      "metadata": {
        "id": "X0THI22RU0Pt"
      },
      "id": "X0THI22RU0Pt",
      "execution_count": null,
      "outputs": []
    },
    {
      "cell_type": "markdown",
      "id": "bc4c3640",
      "metadata": {
        "id": "bc4c3640"
      },
      "source": [
        "## Data understanding"
      ]
    },
    {
      "cell_type": "markdown",
      "id": "2cee4321",
      "metadata": {
        "id": "2cee4321"
      },
      "source": [
        "### Import libraries"
      ]
    },
    {
      "cell_type": "code",
      "execution_count": 30,
      "id": "ae6857d8",
      "metadata": {
        "id": "ae6857d8"
      },
      "outputs": [],
      "source": [
        "import numpy as np\n",
        "import pandas as pd\n",
        "import matplotlib.pyplot as plt\n",
        "import seaborn as sns\n",
        "import re"
      ]
    },
    {
      "cell_type": "markdown",
      "id": "634627c4",
      "metadata": {
        "id": "634627c4"
      },
      "source": [
        "### Load data"
      ]
    },
    {
      "cell_type": "code",
      "execution_count": 34,
      "id": "270a026f",
      "metadata": {
        "id": "270a026f",
        "outputId": "fa8baee9-c50d-43a8-a2af-c0ab641ba8f1",
        "colab": {
          "base_uri": "https://localhost:8080/",
          "height": 224
        }
      },
      "outputs": [
        {
          "output_type": "stream",
          "name": "stdout",
          "text": [
            "(188, 6)\n"
          ]
        },
        {
          "output_type": "execute_result",
          "data": {
            "text/plain": [
              "                            model        price  year    kms     color  \\\n",
              "0   Renault Logan 1.6 Authentique  $31.500.000  2017  80.00  Plateado   \n",
              "1           Renault Logan 1.6 Zen  $39.000.000  2021  32.60      Gris   \n",
              "2  Renault Logan Life 1.6 2023 Mq  $57.296.142  2023   0.00    Blanco   \n",
              "3          Renault Logan 1.6 Life  $39.990.000  2023  73.11      Gris   \n",
              "4    Renault Logan 1.6 Expression  $35.600.000  2018  47.00      Gris   \n",
              "\n",
              "   fueltype  \n",
              "0  Gasolina  \n",
              "1  Gasolina  \n",
              "2  Gasolina  \n",
              "3  Gasolina  \n",
              "4  Gasolina  "
            ],
            "text/html": [
              "\n",
              "  <div id=\"df-cb08ad89-8468-4063-96f6-4e7ba87f73b4\" class=\"colab-df-container\">\n",
              "    <div>\n",
              "<style scoped>\n",
              "    .dataframe tbody tr th:only-of-type {\n",
              "        vertical-align: middle;\n",
              "    }\n",
              "\n",
              "    .dataframe tbody tr th {\n",
              "        vertical-align: top;\n",
              "    }\n",
              "\n",
              "    .dataframe thead th {\n",
              "        text-align: right;\n",
              "    }\n",
              "</style>\n",
              "<table border=\"1\" class=\"dataframe\">\n",
              "  <thead>\n",
              "    <tr style=\"text-align: right;\">\n",
              "      <th></th>\n",
              "      <th>model</th>\n",
              "      <th>price</th>\n",
              "      <th>year</th>\n",
              "      <th>kms</th>\n",
              "      <th>color</th>\n",
              "      <th>fueltype</th>\n",
              "    </tr>\n",
              "  </thead>\n",
              "  <tbody>\n",
              "    <tr>\n",
              "      <th>0</th>\n",
              "      <td>Renault Logan 1.6 Authentique</td>\n",
              "      <td>$31.500.000</td>\n",
              "      <td>2017</td>\n",
              "      <td>80.00</td>\n",
              "      <td>Plateado</td>\n",
              "      <td>Gasolina</td>\n",
              "    </tr>\n",
              "    <tr>\n",
              "      <th>1</th>\n",
              "      <td>Renault Logan 1.6 Zen</td>\n",
              "      <td>$39.000.000</td>\n",
              "      <td>2021</td>\n",
              "      <td>32.60</td>\n",
              "      <td>Gris</td>\n",
              "      <td>Gasolina</td>\n",
              "    </tr>\n",
              "    <tr>\n",
              "      <th>2</th>\n",
              "      <td>Renault Logan Life 1.6 2023 Mq</td>\n",
              "      <td>$57.296.142</td>\n",
              "      <td>2023</td>\n",
              "      <td>0.00</td>\n",
              "      <td>Blanco</td>\n",
              "      <td>Gasolina</td>\n",
              "    </tr>\n",
              "    <tr>\n",
              "      <th>3</th>\n",
              "      <td>Renault Logan 1.6 Life</td>\n",
              "      <td>$39.990.000</td>\n",
              "      <td>2023</td>\n",
              "      <td>73.11</td>\n",
              "      <td>Gris</td>\n",
              "      <td>Gasolina</td>\n",
              "    </tr>\n",
              "    <tr>\n",
              "      <th>4</th>\n",
              "      <td>Renault Logan 1.6 Expression</td>\n",
              "      <td>$35.600.000</td>\n",
              "      <td>2018</td>\n",
              "      <td>47.00</td>\n",
              "      <td>Gris</td>\n",
              "      <td>Gasolina</td>\n",
              "    </tr>\n",
              "  </tbody>\n",
              "</table>\n",
              "</div>\n",
              "    <div class=\"colab-df-buttons\">\n",
              "\n",
              "  <div class=\"colab-df-container\">\n",
              "    <button class=\"colab-df-convert\" onclick=\"convertToInteractive('df-cb08ad89-8468-4063-96f6-4e7ba87f73b4')\"\n",
              "            title=\"Convert this dataframe to an interactive table.\"\n",
              "            style=\"display:none;\">\n",
              "\n",
              "  <svg xmlns=\"http://www.w3.org/2000/svg\" height=\"24px\" viewBox=\"0 -960 960 960\">\n",
              "    <path d=\"M120-120v-720h720v720H120Zm60-500h600v-160H180v160Zm220 220h160v-160H400v160Zm0 220h160v-160H400v160ZM180-400h160v-160H180v160Zm440 0h160v-160H620v160ZM180-180h160v-160H180v160Zm440 0h160v-160H620v160Z\"/>\n",
              "  </svg>\n",
              "    </button>\n",
              "\n",
              "  <style>\n",
              "    .colab-df-container {\n",
              "      display:flex;\n",
              "      gap: 12px;\n",
              "    }\n",
              "\n",
              "    .colab-df-convert {\n",
              "      background-color: #E8F0FE;\n",
              "      border: none;\n",
              "      border-radius: 50%;\n",
              "      cursor: pointer;\n",
              "      display: none;\n",
              "      fill: #1967D2;\n",
              "      height: 32px;\n",
              "      padding: 0 0 0 0;\n",
              "      width: 32px;\n",
              "    }\n",
              "\n",
              "    .colab-df-convert:hover {\n",
              "      background-color: #E2EBFA;\n",
              "      box-shadow: 0px 1px 2px rgba(60, 64, 67, 0.3), 0px 1px 3px 1px rgba(60, 64, 67, 0.15);\n",
              "      fill: #174EA6;\n",
              "    }\n",
              "\n",
              "    .colab-df-buttons div {\n",
              "      margin-bottom: 4px;\n",
              "    }\n",
              "\n",
              "    [theme=dark] .colab-df-convert {\n",
              "      background-color: #3B4455;\n",
              "      fill: #D2E3FC;\n",
              "    }\n",
              "\n",
              "    [theme=dark] .colab-df-convert:hover {\n",
              "      background-color: #434B5C;\n",
              "      box-shadow: 0px 1px 3px 1px rgba(0, 0, 0, 0.15);\n",
              "      filter: drop-shadow(0px 1px 2px rgba(0, 0, 0, 0.3));\n",
              "      fill: #FFFFFF;\n",
              "    }\n",
              "  </style>\n",
              "\n",
              "    <script>\n",
              "      const buttonEl =\n",
              "        document.querySelector('#df-cb08ad89-8468-4063-96f6-4e7ba87f73b4 button.colab-df-convert');\n",
              "      buttonEl.style.display =\n",
              "        google.colab.kernel.accessAllowed ? 'block' : 'none';\n",
              "\n",
              "      async function convertToInteractive(key) {\n",
              "        const element = document.querySelector('#df-cb08ad89-8468-4063-96f6-4e7ba87f73b4');\n",
              "        const dataTable =\n",
              "          await google.colab.kernel.invokeFunction('convertToInteractive',\n",
              "                                                    [key], {});\n",
              "        if (!dataTable) return;\n",
              "\n",
              "        const docLinkHtml = 'Like what you see? Visit the ' +\n",
              "          '<a target=\"_blank\" href=https://colab.research.google.com/notebooks/data_table.ipynb>data table notebook</a>'\n",
              "          + ' to learn more about interactive tables.';\n",
              "        element.innerHTML = '';\n",
              "        dataTable['output_type'] = 'display_data';\n",
              "        await google.colab.output.renderOutput(dataTable, element);\n",
              "        const docLink = document.createElement('div');\n",
              "        docLink.innerHTML = docLinkHtml;\n",
              "        element.appendChild(docLink);\n",
              "      }\n",
              "    </script>\n",
              "  </div>\n",
              "\n",
              "\n",
              "<div id=\"df-55a63e10-0362-41c1-ab2c-522717792035\">\n",
              "  <button class=\"colab-df-quickchart\" onclick=\"quickchart('df-55a63e10-0362-41c1-ab2c-522717792035')\"\n",
              "            title=\"Suggest charts\"\n",
              "            style=\"display:none;\">\n",
              "\n",
              "<svg xmlns=\"http://www.w3.org/2000/svg\" height=\"24px\"viewBox=\"0 0 24 24\"\n",
              "     width=\"24px\">\n",
              "    <g>\n",
              "        <path d=\"M19 3H5c-1.1 0-2 .9-2 2v14c0 1.1.9 2 2 2h14c1.1 0 2-.9 2-2V5c0-1.1-.9-2-2-2zM9 17H7v-7h2v7zm4 0h-2V7h2v10zm4 0h-2v-4h2v4z\"/>\n",
              "    </g>\n",
              "</svg>\n",
              "  </button>\n",
              "\n",
              "<style>\n",
              "  .colab-df-quickchart {\n",
              "      --bg-color: #E8F0FE;\n",
              "      --fill-color: #1967D2;\n",
              "      --hover-bg-color: #E2EBFA;\n",
              "      --hover-fill-color: #174EA6;\n",
              "      --disabled-fill-color: #AAA;\n",
              "      --disabled-bg-color: #DDD;\n",
              "  }\n",
              "\n",
              "  [theme=dark] .colab-df-quickchart {\n",
              "      --bg-color: #3B4455;\n",
              "      --fill-color: #D2E3FC;\n",
              "      --hover-bg-color: #434B5C;\n",
              "      --hover-fill-color: #FFFFFF;\n",
              "      --disabled-bg-color: #3B4455;\n",
              "      --disabled-fill-color: #666;\n",
              "  }\n",
              "\n",
              "  .colab-df-quickchart {\n",
              "    background-color: var(--bg-color);\n",
              "    border: none;\n",
              "    border-radius: 50%;\n",
              "    cursor: pointer;\n",
              "    display: none;\n",
              "    fill: var(--fill-color);\n",
              "    height: 32px;\n",
              "    padding: 0;\n",
              "    width: 32px;\n",
              "  }\n",
              "\n",
              "  .colab-df-quickchart:hover {\n",
              "    background-color: var(--hover-bg-color);\n",
              "    box-shadow: 0 1px 2px rgba(60, 64, 67, 0.3), 0 1px 3px 1px rgba(60, 64, 67, 0.15);\n",
              "    fill: var(--button-hover-fill-color);\n",
              "  }\n",
              "\n",
              "  .colab-df-quickchart-complete:disabled,\n",
              "  .colab-df-quickchart-complete:disabled:hover {\n",
              "    background-color: var(--disabled-bg-color);\n",
              "    fill: var(--disabled-fill-color);\n",
              "    box-shadow: none;\n",
              "  }\n",
              "\n",
              "  .colab-df-spinner {\n",
              "    border: 2px solid var(--fill-color);\n",
              "    border-color: transparent;\n",
              "    border-bottom-color: var(--fill-color);\n",
              "    animation:\n",
              "      spin 1s steps(1) infinite;\n",
              "  }\n",
              "\n",
              "  @keyframes spin {\n",
              "    0% {\n",
              "      border-color: transparent;\n",
              "      border-bottom-color: var(--fill-color);\n",
              "      border-left-color: var(--fill-color);\n",
              "    }\n",
              "    20% {\n",
              "      border-color: transparent;\n",
              "      border-left-color: var(--fill-color);\n",
              "      border-top-color: var(--fill-color);\n",
              "    }\n",
              "    30% {\n",
              "      border-color: transparent;\n",
              "      border-left-color: var(--fill-color);\n",
              "      border-top-color: var(--fill-color);\n",
              "      border-right-color: var(--fill-color);\n",
              "    }\n",
              "    40% {\n",
              "      border-color: transparent;\n",
              "      border-right-color: var(--fill-color);\n",
              "      border-top-color: var(--fill-color);\n",
              "    }\n",
              "    60% {\n",
              "      border-color: transparent;\n",
              "      border-right-color: var(--fill-color);\n",
              "    }\n",
              "    80% {\n",
              "      border-color: transparent;\n",
              "      border-right-color: var(--fill-color);\n",
              "      border-bottom-color: var(--fill-color);\n",
              "    }\n",
              "    90% {\n",
              "      border-color: transparent;\n",
              "      border-bottom-color: var(--fill-color);\n",
              "    }\n",
              "  }\n",
              "</style>\n",
              "\n",
              "  <script>\n",
              "    async function quickchart(key) {\n",
              "      const quickchartButtonEl =\n",
              "        document.querySelector('#' + key + ' button');\n",
              "      quickchartButtonEl.disabled = true;  // To prevent multiple clicks.\n",
              "      quickchartButtonEl.classList.add('colab-df-spinner');\n",
              "      try {\n",
              "        const charts = await google.colab.kernel.invokeFunction(\n",
              "            'suggestCharts', [key], {});\n",
              "      } catch (error) {\n",
              "        console.error('Error during call to suggestCharts:', error);\n",
              "      }\n",
              "      quickchartButtonEl.classList.remove('colab-df-spinner');\n",
              "      quickchartButtonEl.classList.add('colab-df-quickchart-complete');\n",
              "    }\n",
              "    (() => {\n",
              "      let quickchartButtonEl =\n",
              "        document.querySelector('#df-55a63e10-0362-41c1-ab2c-522717792035 button');\n",
              "      quickchartButtonEl.style.display =\n",
              "        google.colab.kernel.accessAllowed ? 'block' : 'none';\n",
              "    })();\n",
              "  </script>\n",
              "</div>\n",
              "\n",
              "    </div>\n",
              "  </div>\n"
            ],
            "application/vnd.google.colaboratory.intrinsic+json": {
              "type": "dataframe",
              "variable_name": "data",
              "summary": "{\n  \"name\": \"data\",\n  \"rows\": 188,\n  \"fields\": [\n    {\n      \"column\": \"model\",\n      \"properties\": {\n        \"dtype\": \"category\",\n        \"num_unique_values\": 81,\n        \"samples\": [\n          \"Renault Logan LIFE EXPRESSION 1.6 MT\",\n          \"Renault Logan 1.6 Authentique\",\n          \"Renault Logan 1.6 Dynamique Fii\"\n        ],\n        \"semantic_type\": \"\",\n        \"description\": \"\"\n      }\n    },\n    {\n      \"column\": \"price\",\n      \"properties\": {\n        \"dtype\": \"string\",\n        \"num_unique_values\": 128,\n        \"samples\": [\n          \"$48.300.000\",\n          \"$38.999.000\",\n          \"$46.900.000\"\n        ],\n        \"semantic_type\": \"\",\n        \"description\": \"\"\n      }\n    },\n    {\n      \"column\": \"year\",\n      \"properties\": {\n        \"dtype\": \"number\",\n        \"std\": 147,\n        \"min\": 0,\n        \"max\": 2024,\n        \"num_unique_values\": 19,\n        \"samples\": [\n          2017,\n          2010,\n          2015\n        ],\n        \"semantic_type\": \"\",\n        \"description\": \"\"\n      }\n    },\n    {\n      \"column\": \"kms\",\n      \"properties\": {\n        \"dtype\": \"number\",\n        \"std\": 46.38319745505719,\n        \"min\": 0.0,\n        \"max\": 227.0,\n        \"num_unique_values\": 147,\n        \"samples\": [\n          118.0,\n          75.0,\n          16.8\n        ],\n        \"semantic_type\": \"\",\n        \"description\": \"\"\n      }\n    },\n    {\n      \"column\": \"color\",\n      \"properties\": {\n        \"dtype\": \"category\",\n        \"num_unique_values\": 9,\n        \"samples\": [\n          \"Color not found\",\n          \"Gris\",\n          \"Rojo\"\n        ],\n        \"semantic_type\": \"\",\n        \"description\": \"\"\n      }\n    },\n    {\n      \"column\": \"fueltype\",\n      \"properties\": {\n        \"dtype\": \"category\",\n        \"num_unique_values\": 2,\n        \"samples\": [\n          \"Fuel type not found\",\n          \"Gasolina\"\n        ],\n        \"semantic_type\": \"\",\n        \"description\": \"\"\n      }\n    }\n  ]\n}"
            }
          },
          "metadata": {},
          "execution_count": 34
        }
      ],
      "source": [
        "import pandas as pd\n",
        "\n",
        "file_path = '/content/usedCarsCol_logan_200624.csv'\n",
        "cols = ['model', 'price', 'year', 'kms', 'color', 'fueltype']\n",
        "\n",
        "# Adjust the separator if necessary\n",
        "data = pd.read_csv(file_path, sep=',', names=cols, header=0, encoding='latin-1')\n",
        "print(data.shape)\n",
        "data.head()\n",
        "\n"
      ]
    },
    {
      "cell_type": "markdown",
      "id": "ca82276d",
      "metadata": {
        "id": "ca82276d"
      },
      "source": [
        "### Verify data types"
      ]
    },
    {
      "cell_type": "code",
      "execution_count": 35,
      "id": "998860b5",
      "metadata": {
        "id": "998860b5",
        "colab": {
          "base_uri": "https://localhost:8080/"
        },
        "outputId": "da128e9f-7d78-4583-fc99-a888429f1481"
      },
      "outputs": [
        {
          "output_type": "execute_result",
          "data": {
            "text/plain": [
              "model        object\n",
              "price        object\n",
              "year          int64\n",
              "kms         float64\n",
              "color        object\n",
              "fueltype     object\n",
              "dtype: object"
            ]
          },
          "metadata": {},
          "execution_count": 35
        }
      ],
      "source": [
        "data.dtypes"
      ]
    },
    {
      "cell_type": "markdown",
      "id": "8dcab392",
      "metadata": {
        "id": "8dcab392"
      },
      "source": [
        "### Count unique values for each variable"
      ]
    },
    {
      "cell_type": "code",
      "execution_count": 36,
      "id": "3034ca26",
      "metadata": {
        "id": "3034ca26",
        "colab": {
          "base_uri": "https://localhost:8080/"
        },
        "outputId": "8a11f55c-5dbc-4072-a9fc-c145cc35b4dc"
      },
      "outputs": [
        {
          "output_type": "execute_result",
          "data": {
            "text/plain": [
              "model        81\n",
              "price       128\n",
              "year         19\n",
              "kms         147\n",
              "color         9\n",
              "fueltype      2\n",
              "dtype: int64"
            ]
          },
          "metadata": {},
          "execution_count": 36
        }
      ],
      "source": [
        "data.nunique()"
      ]
    },
    {
      "cell_type": "code",
      "execution_count": 37,
      "id": "bad51e9a",
      "metadata": {
        "id": "bad51e9a",
        "colab": {
          "base_uri": "https://localhost:8080/"
        },
        "outputId": "40da94bf-0575-4e68-ef4a-f03468f7be92"
      },
      "outputs": [
        {
          "output_type": "stream",
          "name": "stdout",
          "text": [
            "['Renault Logan 1.6 Authentique', 'Renault Logan 1.6 Zen', 'Renault Logan Life 1.6 2023 Mq', 'Renault Logan 1.6 Life', 'Renault Logan 1.6 Expression', 'Renault Logan 1.6 Expression Fii', 'Renault Logan Familier  1400cc Mt Aa', 'Renault Logan Polar 1.6', 'Renault Logan Aut 16v Motor Intens 110hp Divino Financiamos', 'Renault Logan 1.6 Privilege / Intens', 'Renault Logan 1.6 Authentique / Life', 'Renault Logan Mt 2023', 'Renault Logan LIFE 1.6', 'Renault Logan 1.4 Entry Familier Fii', 'Renault Logan 1.6 Intens', 'Renault Logan INTENSE', 'Renault Logan Mt 2022', 'Renault Logan At 2022', 'Renault Logan Mt 2018', 'Renault Logan Life ', 'Renault Logan 1.4 Entry Familier', 'Renault Logan Life Plus 2025 Ds', 'Renault Logan 1.6 Dynamique Fii', 'Renault Logan 1.6 Expression / Life +', 'Renault Logan LIFE', 'Renault Logan Privilege', 'Renault Logan Zen', 'Renault Logan Expression Night & Day', 'Renault Logan 1.6 Intens Aut', 'Renault Logan Zen Modelo 2021', 'Renault Logan LIFE EXPRESSION 1.6 MT', 'Renault Logan LIFE + MT 1.6', 'Renault Logan 1.6 Dynamique', 'Renault Logan 1.6 Life Automatico', 'Renault Logan Life Ph2 ', 'Renault Logan 2020 Version Polar ', 'Renault Logan 1.4 Familier', 'Renault Logan Entry Familier', 'Renault Logan Zen 2025 - LlÃ©valo Con Excelente Precio!!', 'Renault Logan intens', 'Renault Logan Life+ Mt 1.6 16v A/a Gpy596', 'Renault New Logan Exclusive 1.6 Aut 2019 Eny691', 'Renault Logan 1.6 Life Plus', 'Renault Logan Zen Mt 1.600cc Gzx257', 'Renault Logan Intens Cc1600 Automatico 114hp', 'Renault Logan Intens', 'Renault Logan Dynamique Mt', 'Renault Logan Modelo 2022', 'Renault Logan Life Plus- 2025- Llevalo Con Excelente Precio!', 'Renault Logan 1.6 PRIVILEGE AUTOMATICO', 'Renault Logan 1.6 Aa', 'Renault Logan Authentique Automatico', 'Renault Logan expresiÃ³n 1.6 MT', 'Renault Logan MecÃ¡nico Expression', 'Renault Logan 1.6 Dynamique ', 'Renault Logan Life 2023 Mt', 'Renault Logan 1.6 Privilege', 'Renault Logan Exclusive 2020', 'Renault Logan Family 2016', 'Renault Logan Dynamique 1.6', 'Renault Logan 2020', 'Renault Logan Authentique', 'Renault Logan Intens Mt 1.6 Kqz831', 'Renault Logan 1.6 Exclusive', 'Renault Logan 1.6 life Mecanico', 'Logan Privilege At', 'Logan Intense At ', 'Renault Logan Life +', 'Renault Logan INTENS 1.6', 'Renault Logan 1.6 LIFE AUTOMATICO', 'Renault Logan Authentique life mt 1600cc', 'Renault LOGAN LIFE PLUS LIFE', 'Renault Logan 1.4 Expression', 'Renault Logan Mod 2022 At', 'Renault Logan Life Mt 1.6cc 16v 2020', 'Renault Logan Trip Advisor Modelo 2018', 'Renault Logan 1.6 PRIVILEGE AUT', 'Renault Logan Intens 1.6 Mt', 'Renault Logan 1.6 Zen Mt 2023', 'Espectacular Logan Version  Day And Night Full Equipo (2017)', 'Renault Logan LIFE 1.6 MT']\n",
            "['$31.500.000', '$39.000.000', '$57.296.142', '$39.990.000', '$35.600.000', '$24.500.000', '$21.500.000', '$41.500.000', '$51.900.000', '$48.900.000', '$46.000.000', '$50.000.000', '$44.900.000', '$49.400.000', '$23.500.000', '$52.000.000', '$57.990.000', '$42.900.000', '$57.700.000', '$46.900.000', '$35.900.000', '$49.990.000', '$23.000.000', '$64.990.000', '$25.500.000', '$35.000.000', '$43.000.000', '$32.000.000', '$39.900.000', '$45.900.000', '$48.000.000', '$24.900.000', '$36.000.000', '$55.900.000', '$31.900.000', '$53.900.000', '$54.900.000', '$37.800.000', '$66.500.000', '$34.900.000', '$38.999.000', '$37.900.000', '$51.000.000', '$36.900.000', '$41.000.000', '$43.900.000', '$36.500.000', '$18.500.000', '$49.500.000', '$34.000.000', '$33.500.000', '$43.500.000', '$25.700.000', '$39.500.000', '$42.990.000', '$48.300.000', '$38.000.000', '$30.200.000', '$43.750.000', '$39.800.000', '$40.000.000', '$53.000.000', '$40.500.000', '$48.500.000', '$56.990.000', '$68.990.000', '$65.900.000', '$47.990.000', '$47.200.000', '$64.900.000', '$26.000.000', '$56.900.000', '$52.990.000', '$58.900.000', '$26.800.000', '$70.500.000', '$27.900.000', '$25.900.000', '$55.000.000', '$63.490.000', '$60.900.000', '$32.900.000', '$44.500.000', '$26.900.000', '$62.390.000', '$36.800.000', '$35.500.000', '$63.900.000', '$20.900.000', '$37.500.000', '$25.000.000', '$42.999.000', '$31.000.000', '$37.000.000', '$28.499.999', '$38.900.000', '$30.000.000', '$37.300.000', '$51.990.000', '$33.900.000', '$40.990.000', '$50.500.000', '$62.896.200', '$50.400.000', '$40.900.000', '$32.800.000', '$66.439.800', '$27.000.000', '$49.800.000', '$33.000.000', '$57.900.000', '$54.400.000', '$28.000.000', '$56.300.000', '$29.900.000', '$38.600.000', '$46.300.000', '$54.500.000', '$19.800.000', '$23.900.000', '$33.800.000', '$31.990.000', '$43.990.000', '$30.900.000', '$50.900.000', '$34.760.000', '$52.900.000', '$31.800.000']\n",
            "[2017, 2021, 2023, 2018, 2013, 2010, 2020, 2022, 2009, 2012, 2016, 2015, 2019, 2011, 2024, 2014, 2008, 2007, 0]\n",
            "[80.0, 32.6, 0.0, 73.11, 47.0, 135.0, 89.9, 64.0, 29.0, 41.0, 47.95, 63.0, 16.0, 15.0, 25.916, 207.0, 38.0, 19.196, 25.0, 24.0, 62.0, 20.0, 182.0, 146.0, 93.784, 54.6, 84.0, 73.0, 45.0, 114.0, 40.4, 26.78, 48.964, 65.0, 27.69, 32.062, 92.0, 46.0, 66.0, 89.0, 68.436, 29.6, 74.553, 28.0, 35.0, 37.0, 160.0, 26.0, 123.0, 79.0, 47.5, 75.0, 40.8, 54.0, 22.8, 128.0, 67.0, 91.0, 66.213, 81.35, 47.85, 90.0, 61.191, 9.2, 105.0, 50.0, 19.5, 23.21, 46.579, 24.514, 61.054, 79.052, 26.8, 161.35, 8.4, 39.0, 73.252, 42.828, 51.0, 19.7, 41.261, 134.0, 87.325, 94.0, 72.0, 97.0, 14.0, 99.7, 22.949, 113.2, 69.0, 77.0, 167.0, 98.0, 19.6, 28.448, 68.0, 185.0, 140.0, 184.0, 67.5, 102.8, 227.0, 40.479, 20.8, 1.0, 218.5, 75.3, 43.388, 92.55, 70.0, 133.634, 32.084, 21.0, 99.729, 52.903, 24.204, 51.078, 78.0, 171.0, 82.3, 56.0, 18.18, 67.149, 75.8, 118.0, 48.6, 23.0, 57.0, 48.0, 76.0, 170.0, 115.0, 65.543, 130.0, 44.3, 45.6, 47.977, 16.8, 77.999, 100.0, 55.0, 37.576, 51.157, 60.305, 65.885, 149.0]\n",
            "['Plateado', 'Gris', 'Blanco', 'Azul', 'Dorado', 'Rojo', 'Negro', 'Color not found', 'MarrÃ³n']\n",
            "['Gasolina', 'Fuel type not found']\n"
          ]
        }
      ],
      "source": [
        "print(data['model'].unique().tolist())\n",
        "print(data['price'].unique().tolist())\n",
        "print(data['year'].unique().tolist())\n",
        "print(data['kms'].unique().tolist())\n",
        "print(data['color'].unique().tolist())\n",
        "print(data['fueltype'].unique().tolist())"
      ]
    },
    {
      "cell_type": "markdown",
      "id": "7e088992",
      "metadata": {
        "id": "7e088992"
      },
      "source": [
        "### Data transformation"
      ]
    },
    {
      "cell_type": "code",
      "execution_count": 38,
      "id": "3ed603ae",
      "metadata": {
        "id": "3ed603ae",
        "colab": {
          "base_uri": "https://localhost:8080/"
        },
        "outputId": "fe18a1a1-8bdc-461f-ce2e-357c5fa85e14"
      },
      "outputs": [
        {
          "output_type": "execute_result",
          "data": {
            "text/plain": [
              "(188, 5)"
            ]
          },
          "metadata": {},
          "execution_count": 38
        }
      ],
      "source": [
        "# Copy data and remove model variable\n",
        "datacc = data\n",
        "datacc = datacc.drop(['model'], axis=1)\n",
        "datacc.shape"
      ]
    },
    {
      "cell_type": "markdown",
      "id": "ea74f1f1",
      "metadata": {
        "id": "ea74f1f1"
      },
      "source": [
        "#### Transform $price$ to numerical"
      ]
    },
    {
      "cell_type": "code",
      "source": [
        "datacc['price'] = datacc['price'].str.replace(r'[$.]', '', regex=True).astype(int)"
      ],
      "metadata": {
        "id": "1IOOPDbTT_gr"
      },
      "id": "1IOOPDbTT_gr",
      "execution_count": 39,
      "outputs": []
    },
    {
      "cell_type": "markdown",
      "id": "74f3f278",
      "metadata": {
        "id": "74f3f278"
      },
      "source": [
        "##### Transform $kms$ to numerical"
      ]
    },
    {
      "cell_type": "code",
      "source": [
        "# Elimina puntos decimales en la columna 'kms'\n",
        "datacc['kms'] = datacc['kms'].astype(str).str.replace(r'[.]', '', regex=True).astype(int)\n"
      ],
      "metadata": {
        "id": "oElTIOYjVil1"
      },
      "id": "oElTIOYjVil1",
      "execution_count": 40,
      "outputs": []
    },
    {
      "cell_type": "code",
      "source": [
        "datacc.replace({'kms': {'Publicado': 0}}, inplace=True)"
      ],
      "metadata": {
        "id": "TUhVzpp2W0PD"
      },
      "id": "TUhVzpp2W0PD",
      "execution_count": null,
      "outputs": []
    },
    {
      "cell_type": "code",
      "source": [
        "datacc['kms'] = datacc['kms'].replace('[.]','',regex=True).astype(int)"
      ],
      "metadata": {
        "id": "pszNNsMOX1wT"
      },
      "id": "pszNNsMOX1wT",
      "execution_count": null,
      "outputs": []
    },
    {
      "cell_type": "markdown",
      "source": [
        "##### Transform categorical variables to dummies: $year$ and $fuel type$"
      ],
      "metadata": {
        "id": "Jd3dLBdMfUnF"
      },
      "id": "Jd3dLBdMfUnF"
    },
    {
      "cell_type": "code",
      "execution_count": 41,
      "id": "b782cd53",
      "metadata": {
        "id": "b782cd53",
        "colab": {
          "base_uri": "https://localhost:8080/"
        },
        "outputId": "9b608730-de7d-4931-88a8-f58eedee8b87"
      },
      "outputs": [
        {
          "output_type": "execute_result",
          "data": {
            "text/plain": [
              "price          int64\n",
              "year           int64\n",
              "kms            int64\n",
              "color       category\n",
              "fueltype    category\n",
              "dtype: object"
            ]
          },
          "metadata": {},
          "execution_count": 41
        }
      ],
      "source": [
        "# Object to categorical\n",
        "datacc['color'] = datacc['color'].astype('category')\n",
        "datacc['fueltype'] = datacc['fueltype'].astype('category')\n",
        "datacc.dtypes"
      ]
    },
    {
      "cell_type": "code",
      "source": [
        "# Convert to dummies\n",
        "# Convert category to codes\n",
        "datacc['color']  = pd.Categorical(datacc['color']).codes\n",
        "datacc['fueltype']  = pd.Categorical(datacc['fueltype']).codes\n",
        "datacc.head()"
      ],
      "metadata": {
        "id": "eqgAwoIopDz9",
        "colab": {
          "base_uri": "https://localhost:8080/",
          "height": 206
        },
        "outputId": "2ea65e06-21d2-4bc3-af6c-8839e677bca4"
      },
      "id": "eqgAwoIopDz9",
      "execution_count": 42,
      "outputs": [
        {
          "output_type": "execute_result",
          "data": {
            "text/plain": [
              "      price  year   kms  color  fueltype\n",
              "0  31500000  2017   800      7         1\n",
              "1  39000000  2021   326      4         1\n",
              "2  57296142  2023     0      1         1\n",
              "3  39990000  2023  7311      4         1\n",
              "4  35600000  2018   470      4         1"
            ],
            "text/html": [
              "\n",
              "  <div id=\"df-f903a212-0a8c-41ea-972a-10f7bc93229b\" class=\"colab-df-container\">\n",
              "    <div>\n",
              "<style scoped>\n",
              "    .dataframe tbody tr th:only-of-type {\n",
              "        vertical-align: middle;\n",
              "    }\n",
              "\n",
              "    .dataframe tbody tr th {\n",
              "        vertical-align: top;\n",
              "    }\n",
              "\n",
              "    .dataframe thead th {\n",
              "        text-align: right;\n",
              "    }\n",
              "</style>\n",
              "<table border=\"1\" class=\"dataframe\">\n",
              "  <thead>\n",
              "    <tr style=\"text-align: right;\">\n",
              "      <th></th>\n",
              "      <th>price</th>\n",
              "      <th>year</th>\n",
              "      <th>kms</th>\n",
              "      <th>color</th>\n",
              "      <th>fueltype</th>\n",
              "    </tr>\n",
              "  </thead>\n",
              "  <tbody>\n",
              "    <tr>\n",
              "      <th>0</th>\n",
              "      <td>31500000</td>\n",
              "      <td>2017</td>\n",
              "      <td>800</td>\n",
              "      <td>7</td>\n",
              "      <td>1</td>\n",
              "    </tr>\n",
              "    <tr>\n",
              "      <th>1</th>\n",
              "      <td>39000000</td>\n",
              "      <td>2021</td>\n",
              "      <td>326</td>\n",
              "      <td>4</td>\n",
              "      <td>1</td>\n",
              "    </tr>\n",
              "    <tr>\n",
              "      <th>2</th>\n",
              "      <td>57296142</td>\n",
              "      <td>2023</td>\n",
              "      <td>0</td>\n",
              "      <td>1</td>\n",
              "      <td>1</td>\n",
              "    </tr>\n",
              "    <tr>\n",
              "      <th>3</th>\n",
              "      <td>39990000</td>\n",
              "      <td>2023</td>\n",
              "      <td>7311</td>\n",
              "      <td>4</td>\n",
              "      <td>1</td>\n",
              "    </tr>\n",
              "    <tr>\n",
              "      <th>4</th>\n",
              "      <td>35600000</td>\n",
              "      <td>2018</td>\n",
              "      <td>470</td>\n",
              "      <td>4</td>\n",
              "      <td>1</td>\n",
              "    </tr>\n",
              "  </tbody>\n",
              "</table>\n",
              "</div>\n",
              "    <div class=\"colab-df-buttons\">\n",
              "\n",
              "  <div class=\"colab-df-container\">\n",
              "    <button class=\"colab-df-convert\" onclick=\"convertToInteractive('df-f903a212-0a8c-41ea-972a-10f7bc93229b')\"\n",
              "            title=\"Convert this dataframe to an interactive table.\"\n",
              "            style=\"display:none;\">\n",
              "\n",
              "  <svg xmlns=\"http://www.w3.org/2000/svg\" height=\"24px\" viewBox=\"0 -960 960 960\">\n",
              "    <path d=\"M120-120v-720h720v720H120Zm60-500h600v-160H180v160Zm220 220h160v-160H400v160Zm0 220h160v-160H400v160ZM180-400h160v-160H180v160Zm440 0h160v-160H620v160ZM180-180h160v-160H180v160Zm440 0h160v-160H620v160Z\"/>\n",
              "  </svg>\n",
              "    </button>\n",
              "\n",
              "  <style>\n",
              "    .colab-df-container {\n",
              "      display:flex;\n",
              "      gap: 12px;\n",
              "    }\n",
              "\n",
              "    .colab-df-convert {\n",
              "      background-color: #E8F0FE;\n",
              "      border: none;\n",
              "      border-radius: 50%;\n",
              "      cursor: pointer;\n",
              "      display: none;\n",
              "      fill: #1967D2;\n",
              "      height: 32px;\n",
              "      padding: 0 0 0 0;\n",
              "      width: 32px;\n",
              "    }\n",
              "\n",
              "    .colab-df-convert:hover {\n",
              "      background-color: #E2EBFA;\n",
              "      box-shadow: 0px 1px 2px rgba(60, 64, 67, 0.3), 0px 1px 3px 1px rgba(60, 64, 67, 0.15);\n",
              "      fill: #174EA6;\n",
              "    }\n",
              "\n",
              "    .colab-df-buttons div {\n",
              "      margin-bottom: 4px;\n",
              "    }\n",
              "\n",
              "    [theme=dark] .colab-df-convert {\n",
              "      background-color: #3B4455;\n",
              "      fill: #D2E3FC;\n",
              "    }\n",
              "\n",
              "    [theme=dark] .colab-df-convert:hover {\n",
              "      background-color: #434B5C;\n",
              "      box-shadow: 0px 1px 3px 1px rgba(0, 0, 0, 0.15);\n",
              "      filter: drop-shadow(0px 1px 2px rgba(0, 0, 0, 0.3));\n",
              "      fill: #FFFFFF;\n",
              "    }\n",
              "  </style>\n",
              "\n",
              "    <script>\n",
              "      const buttonEl =\n",
              "        document.querySelector('#df-f903a212-0a8c-41ea-972a-10f7bc93229b button.colab-df-convert');\n",
              "      buttonEl.style.display =\n",
              "        google.colab.kernel.accessAllowed ? 'block' : 'none';\n",
              "\n",
              "      async function convertToInteractive(key) {\n",
              "        const element = document.querySelector('#df-f903a212-0a8c-41ea-972a-10f7bc93229b');\n",
              "        const dataTable =\n",
              "          await google.colab.kernel.invokeFunction('convertToInteractive',\n",
              "                                                    [key], {});\n",
              "        if (!dataTable) return;\n",
              "\n",
              "        const docLinkHtml = 'Like what you see? Visit the ' +\n",
              "          '<a target=\"_blank\" href=https://colab.research.google.com/notebooks/data_table.ipynb>data table notebook</a>'\n",
              "          + ' to learn more about interactive tables.';\n",
              "        element.innerHTML = '';\n",
              "        dataTable['output_type'] = 'display_data';\n",
              "        await google.colab.output.renderOutput(dataTable, element);\n",
              "        const docLink = document.createElement('div');\n",
              "        docLink.innerHTML = docLinkHtml;\n",
              "        element.appendChild(docLink);\n",
              "      }\n",
              "    </script>\n",
              "  </div>\n",
              "\n",
              "\n",
              "<div id=\"df-4d435e6c-7ae0-4e50-a778-aa8364d83514\">\n",
              "  <button class=\"colab-df-quickchart\" onclick=\"quickchart('df-4d435e6c-7ae0-4e50-a778-aa8364d83514')\"\n",
              "            title=\"Suggest charts\"\n",
              "            style=\"display:none;\">\n",
              "\n",
              "<svg xmlns=\"http://www.w3.org/2000/svg\" height=\"24px\"viewBox=\"0 0 24 24\"\n",
              "     width=\"24px\">\n",
              "    <g>\n",
              "        <path d=\"M19 3H5c-1.1 0-2 .9-2 2v14c0 1.1.9 2 2 2h14c1.1 0 2-.9 2-2V5c0-1.1-.9-2-2-2zM9 17H7v-7h2v7zm4 0h-2V7h2v10zm4 0h-2v-4h2v4z\"/>\n",
              "    </g>\n",
              "</svg>\n",
              "  </button>\n",
              "\n",
              "<style>\n",
              "  .colab-df-quickchart {\n",
              "      --bg-color: #E8F0FE;\n",
              "      --fill-color: #1967D2;\n",
              "      --hover-bg-color: #E2EBFA;\n",
              "      --hover-fill-color: #174EA6;\n",
              "      --disabled-fill-color: #AAA;\n",
              "      --disabled-bg-color: #DDD;\n",
              "  }\n",
              "\n",
              "  [theme=dark] .colab-df-quickchart {\n",
              "      --bg-color: #3B4455;\n",
              "      --fill-color: #D2E3FC;\n",
              "      --hover-bg-color: #434B5C;\n",
              "      --hover-fill-color: #FFFFFF;\n",
              "      --disabled-bg-color: #3B4455;\n",
              "      --disabled-fill-color: #666;\n",
              "  }\n",
              "\n",
              "  .colab-df-quickchart {\n",
              "    background-color: var(--bg-color);\n",
              "    border: none;\n",
              "    border-radius: 50%;\n",
              "    cursor: pointer;\n",
              "    display: none;\n",
              "    fill: var(--fill-color);\n",
              "    height: 32px;\n",
              "    padding: 0;\n",
              "    width: 32px;\n",
              "  }\n",
              "\n",
              "  .colab-df-quickchart:hover {\n",
              "    background-color: var(--hover-bg-color);\n",
              "    box-shadow: 0 1px 2px rgba(60, 64, 67, 0.3), 0 1px 3px 1px rgba(60, 64, 67, 0.15);\n",
              "    fill: var(--button-hover-fill-color);\n",
              "  }\n",
              "\n",
              "  .colab-df-quickchart-complete:disabled,\n",
              "  .colab-df-quickchart-complete:disabled:hover {\n",
              "    background-color: var(--disabled-bg-color);\n",
              "    fill: var(--disabled-fill-color);\n",
              "    box-shadow: none;\n",
              "  }\n",
              "\n",
              "  .colab-df-spinner {\n",
              "    border: 2px solid var(--fill-color);\n",
              "    border-color: transparent;\n",
              "    border-bottom-color: var(--fill-color);\n",
              "    animation:\n",
              "      spin 1s steps(1) infinite;\n",
              "  }\n",
              "\n",
              "  @keyframes spin {\n",
              "    0% {\n",
              "      border-color: transparent;\n",
              "      border-bottom-color: var(--fill-color);\n",
              "      border-left-color: var(--fill-color);\n",
              "    }\n",
              "    20% {\n",
              "      border-color: transparent;\n",
              "      border-left-color: var(--fill-color);\n",
              "      border-top-color: var(--fill-color);\n",
              "    }\n",
              "    30% {\n",
              "      border-color: transparent;\n",
              "      border-left-color: var(--fill-color);\n",
              "      border-top-color: var(--fill-color);\n",
              "      border-right-color: var(--fill-color);\n",
              "    }\n",
              "    40% {\n",
              "      border-color: transparent;\n",
              "      border-right-color: var(--fill-color);\n",
              "      border-top-color: var(--fill-color);\n",
              "    }\n",
              "    60% {\n",
              "      border-color: transparent;\n",
              "      border-right-color: var(--fill-color);\n",
              "    }\n",
              "    80% {\n",
              "      border-color: transparent;\n",
              "      border-right-color: var(--fill-color);\n",
              "      border-bottom-color: var(--fill-color);\n",
              "    }\n",
              "    90% {\n",
              "      border-color: transparent;\n",
              "      border-bottom-color: var(--fill-color);\n",
              "    }\n",
              "  }\n",
              "</style>\n",
              "\n",
              "  <script>\n",
              "    async function quickchart(key) {\n",
              "      const quickchartButtonEl =\n",
              "        document.querySelector('#' + key + ' button');\n",
              "      quickchartButtonEl.disabled = true;  // To prevent multiple clicks.\n",
              "      quickchartButtonEl.classList.add('colab-df-spinner');\n",
              "      try {\n",
              "        const charts = await google.colab.kernel.invokeFunction(\n",
              "            'suggestCharts', [key], {});\n",
              "      } catch (error) {\n",
              "        console.error('Error during call to suggestCharts:', error);\n",
              "      }\n",
              "      quickchartButtonEl.classList.remove('colab-df-spinner');\n",
              "      quickchartButtonEl.classList.add('colab-df-quickchart-complete');\n",
              "    }\n",
              "    (() => {\n",
              "      let quickchartButtonEl =\n",
              "        document.querySelector('#df-4d435e6c-7ae0-4e50-a778-aa8364d83514 button');\n",
              "      quickchartButtonEl.style.display =\n",
              "        google.colab.kernel.accessAllowed ? 'block' : 'none';\n",
              "    })();\n",
              "  </script>\n",
              "</div>\n",
              "\n",
              "    </div>\n",
              "  </div>\n"
            ],
            "application/vnd.google.colaboratory.intrinsic+json": {
              "type": "dataframe",
              "variable_name": "datacc",
              "summary": "{\n  \"name\": \"datacc\",\n  \"rows\": 188,\n  \"fields\": [\n    {\n      \"column\": \"price\",\n      \"properties\": {\n        \"dtype\": \"number\",\n        \"std\": 11497918,\n        \"min\": 18500000,\n        \"max\": 70500000,\n        \"num_unique_values\": 128,\n        \"samples\": [\n          48300000,\n          38999000,\n          46900000\n        ],\n        \"semantic_type\": \"\",\n        \"description\": \"\"\n      }\n    },\n    {\n      \"column\": \"year\",\n      \"properties\": {\n        \"dtype\": \"number\",\n        \"std\": 147,\n        \"min\": 0,\n        \"max\": 2024,\n        \"num_unique_values\": 19,\n        \"samples\": [\n          2017,\n          2010,\n          2015\n        ],\n        \"semantic_type\": \"\",\n        \"description\": \"\"\n      }\n    },\n    {\n      \"column\": \"kms\",\n      \"properties\": {\n        \"dtype\": \"number\",\n        \"std\": 23910,\n        \"min\": 0,\n        \"max\": 133634,\n        \"num_unique_values\": 147,\n        \"samples\": [\n          1180,\n          750,\n          168\n        ],\n        \"semantic_type\": \"\",\n        \"description\": \"\"\n      }\n    },\n    {\n      \"column\": \"color\",\n      \"properties\": {\n        \"dtype\": \"int8\",\n        \"num_unique_values\": 9,\n        \"samples\": [\n          2,\n          4,\n          8\n        ],\n        \"semantic_type\": \"\",\n        \"description\": \"\"\n      }\n    },\n    {\n      \"column\": \"fueltype\",\n      \"properties\": {\n        \"dtype\": \"int8\",\n        \"num_unique_values\": 2,\n        \"samples\": [\n          0,\n          1\n        ],\n        \"semantic_type\": \"\",\n        \"description\": \"\"\n      }\n    }\n  ]\n}"
            }
          },
          "metadata": {},
          "execution_count": 42
        }
      ]
    },
    {
      "cell_type": "markdown",
      "id": "d93d3610",
      "metadata": {
        "id": "d93d3610"
      },
      "source": [
        "## Data Exploration"
      ]
    },
    {
      "cell_type": "code",
      "execution_count": 43,
      "id": "3ff4e61d",
      "metadata": {
        "id": "3ff4e61d",
        "colab": {
          "base_uri": "https://localhost:8080/",
          "height": 300
        },
        "outputId": "ae084b00-794a-4c01-a13a-b7cb5d9bc97b"
      },
      "outputs": [
        {
          "output_type": "execute_result",
          "data": {
            "text/plain": [
              "              price         year            kms\n",
              "count  1.880000e+02   188.000000     188.000000\n",
              "mean   4.131846e+07  2008.122340   11183.271277\n",
              "std    1.149792e+07   147.292611   23910.245650\n",
              "min    1.850000e+07     0.000000       0.000000\n",
              "25%    3.337500e+07  2017.000000     370.000000\n",
              "50%    3.990000e+07  2019.000000     765.000000\n",
              "75%    4.942500e+07  2022.000000    1905.000000\n",
              "max    7.050000e+07  2024.000000  133634.000000"
            ],
            "text/html": [
              "\n",
              "  <div id=\"df-163b62e1-84ee-428e-aada-3118771dda23\" class=\"colab-df-container\">\n",
              "    <div>\n",
              "<style scoped>\n",
              "    .dataframe tbody tr th:only-of-type {\n",
              "        vertical-align: middle;\n",
              "    }\n",
              "\n",
              "    .dataframe tbody tr th {\n",
              "        vertical-align: top;\n",
              "    }\n",
              "\n",
              "    .dataframe thead th {\n",
              "        text-align: right;\n",
              "    }\n",
              "</style>\n",
              "<table border=\"1\" class=\"dataframe\">\n",
              "  <thead>\n",
              "    <tr style=\"text-align: right;\">\n",
              "      <th></th>\n",
              "      <th>price</th>\n",
              "      <th>year</th>\n",
              "      <th>kms</th>\n",
              "    </tr>\n",
              "  </thead>\n",
              "  <tbody>\n",
              "    <tr>\n",
              "      <th>count</th>\n",
              "      <td>1.880000e+02</td>\n",
              "      <td>188.000000</td>\n",
              "      <td>188.000000</td>\n",
              "    </tr>\n",
              "    <tr>\n",
              "      <th>mean</th>\n",
              "      <td>4.131846e+07</td>\n",
              "      <td>2008.122340</td>\n",
              "      <td>11183.271277</td>\n",
              "    </tr>\n",
              "    <tr>\n",
              "      <th>std</th>\n",
              "      <td>1.149792e+07</td>\n",
              "      <td>147.292611</td>\n",
              "      <td>23910.245650</td>\n",
              "    </tr>\n",
              "    <tr>\n",
              "      <th>min</th>\n",
              "      <td>1.850000e+07</td>\n",
              "      <td>0.000000</td>\n",
              "      <td>0.000000</td>\n",
              "    </tr>\n",
              "    <tr>\n",
              "      <th>25%</th>\n",
              "      <td>3.337500e+07</td>\n",
              "      <td>2017.000000</td>\n",
              "      <td>370.000000</td>\n",
              "    </tr>\n",
              "    <tr>\n",
              "      <th>50%</th>\n",
              "      <td>3.990000e+07</td>\n",
              "      <td>2019.000000</td>\n",
              "      <td>765.000000</td>\n",
              "    </tr>\n",
              "    <tr>\n",
              "      <th>75%</th>\n",
              "      <td>4.942500e+07</td>\n",
              "      <td>2022.000000</td>\n",
              "      <td>1905.000000</td>\n",
              "    </tr>\n",
              "    <tr>\n",
              "      <th>max</th>\n",
              "      <td>7.050000e+07</td>\n",
              "      <td>2024.000000</td>\n",
              "      <td>133634.000000</td>\n",
              "    </tr>\n",
              "  </tbody>\n",
              "</table>\n",
              "</div>\n",
              "    <div class=\"colab-df-buttons\">\n",
              "\n",
              "  <div class=\"colab-df-container\">\n",
              "    <button class=\"colab-df-convert\" onclick=\"convertToInteractive('df-163b62e1-84ee-428e-aada-3118771dda23')\"\n",
              "            title=\"Convert this dataframe to an interactive table.\"\n",
              "            style=\"display:none;\">\n",
              "\n",
              "  <svg xmlns=\"http://www.w3.org/2000/svg\" height=\"24px\" viewBox=\"0 -960 960 960\">\n",
              "    <path d=\"M120-120v-720h720v720H120Zm60-500h600v-160H180v160Zm220 220h160v-160H400v160Zm0 220h160v-160H400v160ZM180-400h160v-160H180v160Zm440 0h160v-160H620v160ZM180-180h160v-160H180v160Zm440 0h160v-160H620v160Z\"/>\n",
              "  </svg>\n",
              "    </button>\n",
              "\n",
              "  <style>\n",
              "    .colab-df-container {\n",
              "      display:flex;\n",
              "      gap: 12px;\n",
              "    }\n",
              "\n",
              "    .colab-df-convert {\n",
              "      background-color: #E8F0FE;\n",
              "      border: none;\n",
              "      border-radius: 50%;\n",
              "      cursor: pointer;\n",
              "      display: none;\n",
              "      fill: #1967D2;\n",
              "      height: 32px;\n",
              "      padding: 0 0 0 0;\n",
              "      width: 32px;\n",
              "    }\n",
              "\n",
              "    .colab-df-convert:hover {\n",
              "      background-color: #E2EBFA;\n",
              "      box-shadow: 0px 1px 2px rgba(60, 64, 67, 0.3), 0px 1px 3px 1px rgba(60, 64, 67, 0.15);\n",
              "      fill: #174EA6;\n",
              "    }\n",
              "\n",
              "    .colab-df-buttons div {\n",
              "      margin-bottom: 4px;\n",
              "    }\n",
              "\n",
              "    [theme=dark] .colab-df-convert {\n",
              "      background-color: #3B4455;\n",
              "      fill: #D2E3FC;\n",
              "    }\n",
              "\n",
              "    [theme=dark] .colab-df-convert:hover {\n",
              "      background-color: #434B5C;\n",
              "      box-shadow: 0px 1px 3px 1px rgba(0, 0, 0, 0.15);\n",
              "      filter: drop-shadow(0px 1px 2px rgba(0, 0, 0, 0.3));\n",
              "      fill: #FFFFFF;\n",
              "    }\n",
              "  </style>\n",
              "\n",
              "    <script>\n",
              "      const buttonEl =\n",
              "        document.querySelector('#df-163b62e1-84ee-428e-aada-3118771dda23 button.colab-df-convert');\n",
              "      buttonEl.style.display =\n",
              "        google.colab.kernel.accessAllowed ? 'block' : 'none';\n",
              "\n",
              "      async function convertToInteractive(key) {\n",
              "        const element = document.querySelector('#df-163b62e1-84ee-428e-aada-3118771dda23');\n",
              "        const dataTable =\n",
              "          await google.colab.kernel.invokeFunction('convertToInteractive',\n",
              "                                                    [key], {});\n",
              "        if (!dataTable) return;\n",
              "\n",
              "        const docLinkHtml = 'Like what you see? Visit the ' +\n",
              "          '<a target=\"_blank\" href=https://colab.research.google.com/notebooks/data_table.ipynb>data table notebook</a>'\n",
              "          + ' to learn more about interactive tables.';\n",
              "        element.innerHTML = '';\n",
              "        dataTable['output_type'] = 'display_data';\n",
              "        await google.colab.output.renderOutput(dataTable, element);\n",
              "        const docLink = document.createElement('div');\n",
              "        docLink.innerHTML = docLinkHtml;\n",
              "        element.appendChild(docLink);\n",
              "      }\n",
              "    </script>\n",
              "  </div>\n",
              "\n",
              "\n",
              "<div id=\"df-822bff17-0466-4153-87fd-dede07a58b5e\">\n",
              "  <button class=\"colab-df-quickchart\" onclick=\"quickchart('df-822bff17-0466-4153-87fd-dede07a58b5e')\"\n",
              "            title=\"Suggest charts\"\n",
              "            style=\"display:none;\">\n",
              "\n",
              "<svg xmlns=\"http://www.w3.org/2000/svg\" height=\"24px\"viewBox=\"0 0 24 24\"\n",
              "     width=\"24px\">\n",
              "    <g>\n",
              "        <path d=\"M19 3H5c-1.1 0-2 .9-2 2v14c0 1.1.9 2 2 2h14c1.1 0 2-.9 2-2V5c0-1.1-.9-2-2-2zM9 17H7v-7h2v7zm4 0h-2V7h2v10zm4 0h-2v-4h2v4z\"/>\n",
              "    </g>\n",
              "</svg>\n",
              "  </button>\n",
              "\n",
              "<style>\n",
              "  .colab-df-quickchart {\n",
              "      --bg-color: #E8F0FE;\n",
              "      --fill-color: #1967D2;\n",
              "      --hover-bg-color: #E2EBFA;\n",
              "      --hover-fill-color: #174EA6;\n",
              "      --disabled-fill-color: #AAA;\n",
              "      --disabled-bg-color: #DDD;\n",
              "  }\n",
              "\n",
              "  [theme=dark] .colab-df-quickchart {\n",
              "      --bg-color: #3B4455;\n",
              "      --fill-color: #D2E3FC;\n",
              "      --hover-bg-color: #434B5C;\n",
              "      --hover-fill-color: #FFFFFF;\n",
              "      --disabled-bg-color: #3B4455;\n",
              "      --disabled-fill-color: #666;\n",
              "  }\n",
              "\n",
              "  .colab-df-quickchart {\n",
              "    background-color: var(--bg-color);\n",
              "    border: none;\n",
              "    border-radius: 50%;\n",
              "    cursor: pointer;\n",
              "    display: none;\n",
              "    fill: var(--fill-color);\n",
              "    height: 32px;\n",
              "    padding: 0;\n",
              "    width: 32px;\n",
              "  }\n",
              "\n",
              "  .colab-df-quickchart:hover {\n",
              "    background-color: var(--hover-bg-color);\n",
              "    box-shadow: 0 1px 2px rgba(60, 64, 67, 0.3), 0 1px 3px 1px rgba(60, 64, 67, 0.15);\n",
              "    fill: var(--button-hover-fill-color);\n",
              "  }\n",
              "\n",
              "  .colab-df-quickchart-complete:disabled,\n",
              "  .colab-df-quickchart-complete:disabled:hover {\n",
              "    background-color: var(--disabled-bg-color);\n",
              "    fill: var(--disabled-fill-color);\n",
              "    box-shadow: none;\n",
              "  }\n",
              "\n",
              "  .colab-df-spinner {\n",
              "    border: 2px solid var(--fill-color);\n",
              "    border-color: transparent;\n",
              "    border-bottom-color: var(--fill-color);\n",
              "    animation:\n",
              "      spin 1s steps(1) infinite;\n",
              "  }\n",
              "\n",
              "  @keyframes spin {\n",
              "    0% {\n",
              "      border-color: transparent;\n",
              "      border-bottom-color: var(--fill-color);\n",
              "      border-left-color: var(--fill-color);\n",
              "    }\n",
              "    20% {\n",
              "      border-color: transparent;\n",
              "      border-left-color: var(--fill-color);\n",
              "      border-top-color: var(--fill-color);\n",
              "    }\n",
              "    30% {\n",
              "      border-color: transparent;\n",
              "      border-left-color: var(--fill-color);\n",
              "      border-top-color: var(--fill-color);\n",
              "      border-right-color: var(--fill-color);\n",
              "    }\n",
              "    40% {\n",
              "      border-color: transparent;\n",
              "      border-right-color: var(--fill-color);\n",
              "      border-top-color: var(--fill-color);\n",
              "    }\n",
              "    60% {\n",
              "      border-color: transparent;\n",
              "      border-right-color: var(--fill-color);\n",
              "    }\n",
              "    80% {\n",
              "      border-color: transparent;\n",
              "      border-right-color: var(--fill-color);\n",
              "      border-bottom-color: var(--fill-color);\n",
              "    }\n",
              "    90% {\n",
              "      border-color: transparent;\n",
              "      border-bottom-color: var(--fill-color);\n",
              "    }\n",
              "  }\n",
              "</style>\n",
              "\n",
              "  <script>\n",
              "    async function quickchart(key) {\n",
              "      const quickchartButtonEl =\n",
              "        document.querySelector('#' + key + ' button');\n",
              "      quickchartButtonEl.disabled = true;  // To prevent multiple clicks.\n",
              "      quickchartButtonEl.classList.add('colab-df-spinner');\n",
              "      try {\n",
              "        const charts = await google.colab.kernel.invokeFunction(\n",
              "            'suggestCharts', [key], {});\n",
              "      } catch (error) {\n",
              "        console.error('Error during call to suggestCharts:', error);\n",
              "      }\n",
              "      quickchartButtonEl.classList.remove('colab-df-spinner');\n",
              "      quickchartButtonEl.classList.add('colab-df-quickchart-complete');\n",
              "    }\n",
              "    (() => {\n",
              "      let quickchartButtonEl =\n",
              "        document.querySelector('#df-822bff17-0466-4153-87fd-dede07a58b5e button');\n",
              "      quickchartButtonEl.style.display =\n",
              "        google.colab.kernel.accessAllowed ? 'block' : 'none';\n",
              "    })();\n",
              "  </script>\n",
              "</div>\n",
              "\n",
              "    </div>\n",
              "  </div>\n"
            ],
            "application/vnd.google.colaboratory.intrinsic+json": {
              "type": "dataframe",
              "summary": "{\n  \"name\": \"datacc\",\n  \"rows\": 8,\n  \"fields\": [\n    {\n      \"column\": \"price\",\n      \"properties\": {\n        \"dtype\": \"number\",\n        \"std\": 22534170.041444726,\n        \"min\": 188.0,\n        \"max\": 70500000.0,\n        \"num_unique_values\": 8,\n        \"samples\": [\n          41318458.19680851,\n          39900000.0,\n          188.0\n        ],\n        \"semantic_type\": \"\",\n        \"description\": \"\"\n      }\n    },\n    {\n      \"column\": \"year\",\n      \"properties\": {\n        \"dtype\": \"number\",\n        \"std\": 988.0098924738169,\n        \"min\": 0.0,\n        \"max\": 2024.0,\n        \"num_unique_values\": 8,\n        \"samples\": [\n          2008.122340425532,\n          2019.0,\n          188.0\n        ],\n        \"semantic_type\": \"\",\n        \"description\": \"\"\n      }\n    },\n    {\n      \"column\": \"kms\",\n      \"properties\": {\n        \"dtype\": \"number\",\n        \"std\": 46079.29559590206,\n        \"min\": 0.0,\n        \"max\": 133634.0,\n        \"num_unique_values\": 8,\n        \"samples\": [\n          11183.271276595744,\n          765.0,\n          188.0\n        ],\n        \"semantic_type\": \"\",\n        \"description\": \"\"\n      }\n    }\n  ]\n}"
            }
          },
          "metadata": {},
          "execution_count": 43
        }
      ],
      "source": [
        "# Descriptive statistics\n",
        "datacc.describe()[['price','year','kms']]"
      ]
    },
    {
      "cell_type": "markdown",
      "id": "c964a2f1",
      "metadata": {
        "id": "c964a2f1"
      },
      "source": [
        "#### Histograms"
      ]
    },
    {
      "cell_type": "code",
      "execution_count": 44,
      "id": "f00a9d42",
      "metadata": {
        "id": "f00a9d42",
        "colab": {
          "base_uri": "https://localhost:8080/",
          "height": 479
        },
        "outputId": "1f4d68e3-6af2-43a9-c5a1-9952850c7158"
      },
      "outputs": [
        {
          "output_type": "execute_result",
          "data": {
            "text/plain": [
              "Text(0.5, 1.0, '$kms$')"
            ]
          },
          "metadata": {},
          "execution_count": 44
        },
        {
          "output_type": "display_data",
          "data": {
            "text/plain": [
              "<Figure size 1500x600 with 3 Axes>"
            ],
            "image/png": "[encoded data removed]"
          },
          "metadata": {}
        }
      ],
      "source": [
        "# Histograms\n",
        "fig, (ax1, ax2, ax3) = plt.subplots(1, 3, figsize=(15,6))\n",
        "fig.suptitle('Histograms for some variables')\n",
        "sns.histplot(datacc['price'], ax=ax1)\n",
        "ax1.set_title('$Price$')\n",
        "sns.histplot(datacc['year'], ax=ax2)\n",
        "ax2.set_title('$Year$')\n",
        "sns.histplot(datacc['kms'], ax=ax3)\n",
        "ax3.set_title('$kms$')"
      ]
    },
    {
      "cell_type": "markdown",
      "source": [
        "En el histrograma, podemos ver la siguiente información acerca de las variables: Precio, Año y Kilómetros (Kms).\n",
        "\n",
        "Precio: El histograma muestra una tendencia en la que los precios más bajos son más frecuentes. Esto indica que hay más elementos (probablemente vehículos) con precios bajos en el conjunto de datos. La escala del eje x sugiere que los precios están en alguna unidad multiplicada por 108\n",
        "\n",
        "Año: Este histograma muestra la distribución de los años. Hay picos notables en ciertos años, lo que sugiere que esos años tienen más ocurrencias dentro del conjunto de datos. Esto podría indicar los años en los que se vendieron o fabricaron más vehículos.\n",
        "\n",
        "Kilómetros (Kms): Este histograma muestra que los vehículos con menor kilometraje son más frecuentes en el conjunto de datos. La escala del eje x sugiere que la distancia recorrida está en kilómetros multiplicada por 106"
      ],
      "metadata": {
        "id": "kq9kGxUEtLEn"
      },
      "id": "kq9kGxUEtLEn"
    },
    {
      "cell_type": "markdown",
      "id": "30509a3e",
      "metadata": {
        "id": "30509a3e"
      },
      "source": [
        "#### Boxplots"
      ]
    },
    {
      "cell_type": "code",
      "execution_count": 45,
      "id": "8c26fc4d",
      "metadata": {
        "id": "8c26fc4d",
        "colab": {
          "base_uri": "https://localhost:8080/",
          "height": 380
        },
        "outputId": "c04e7f43-a450-4169-aec1-e2fd79d4f54a"
      },
      "outputs": [
        {
          "output_type": "execute_result",
          "data": {
            "text/plain": [
              "<Axes: >"
            ]
          },
          "metadata": {},
          "execution_count": 45
        },
        {
          "output_type": "display_data",
          "data": {
            "text/plain": [
              "<Figure size 1500x450 with 3 Axes>"
            ],
            "image/png": "[encoded data removed]"
          },
          "metadata": {}
        }
      ],
      "source": [
        "### Boxplot\n",
        "fig, (ax1, ax2, ax3) = plt.subplots(1, 3, figsize=(15,4.5))\n",
        "fig.suptitle('Boxplots for some variables')\n",
        "sns.boxplot(data=datacc[['price']], ax=ax1)\n",
        "sns.boxplot(data=datacc[['year']], ax=ax2)\n",
        "sns.boxplot(data=datacc[['kms']], ax=ax3)"
      ]
    },
    {
      "cell_type": "code",
      "source": [
        "from google.colab import drive\n",
        "drive.mount('/content/drive')"
      ],
      "metadata": {
        "id": "oKe1bt-sVuQx",
        "colab": {
          "base_uri": "https://localhost:8080/"
        },
        "outputId": "e9cd06d9-d12c-4f53-b3da-1020ff1003f9",
        "collapsed": true
      },
      "id": "oKe1bt-sVuQx",
      "execution_count": null,
      "outputs": [
        {
          "output_type": "stream",
          "name": "stdout",
          "text": [
            "Mounted at /content/drive\n"
          ]
        }
      ]
    },
    {
      "cell_type": "markdown",
      "id": "7c1de9a6",
      "metadata": {
        "id": "7c1de9a6"
      },
      "source": [
        "#### Ouliers treatment\n",
        "_https://www.statology.org/remove-outliers-python/_  \n",
        "_https://towardsdatascience.com/a-complete-guide-for-detecting-and-dealing-with-outliers-bad26b1e92b6_  \n",
        "_https://www.scribbr.com/statistics/outliers/_  \n",
        "_https://www.statology.org/remove-outliers/_  "
      ]
    },
    {
      "cell_type": "code",
      "execution_count": null,
      "id": "118fe4b4",
      "metadata": {
        "id": "118fe4b4",
        "colab": {
          "base_uri": "https://localhost:8080/",
          "height": 469
        },
        "outputId": "72ba9caa-971a-4d6f-fa51-29b6c9fdcb21"
      },
      "outputs": [
        {
          "output_type": "execute_result",
          "data": {
            "text/plain": [
              "<Axes: >"
            ]
          },
          "metadata": {},
          "execution_count": 17
        },
        {
          "output_type": "display_data",
          "data": {
            "text/plain": [
              "<Figure size 1500x450 with 3 Axes>"
            ],
            "image/png": "[encoded data removed]"
          },
          "metadata": {}
        }
      ],
      "source": [
        "# Z score to eliminate outliers of 'year' and 'kms'\n",
        "from scipy import stats\n",
        "\n",
        "#find absolute value of z-score for each observation of 'kms'\n",
        "z2 = np.abs(stats.zscore(datacc['kms']))\n",
        "\n",
        "#only keep rows in dataframe with all z-scores less than absolute value of 3\n",
        "toremove = datacc.kms[(z2>2)].index\n",
        "datacc = datacc.drop(toremove)\n",
        "\n",
        "fig, (ax1, ax2, ax3) = plt.subplots(1, 3, figsize=(15,4.5))\n",
        "fig.suptitle('Boxplots for some variables')\n",
        "sns.boxplot(data=datacc[['price']], ax=ax1)\n",
        "sns.boxplot(data=datacc[['year']], ax=ax2)\n",
        "sns.boxplot(data=datacc[['kms']], ax=ax3)"
      ]
    },
    {
      "cell_type": "code",
      "source": [
        "# Histograms\n",
        "fig, (ax1, ax2, ax3) = plt.subplots(1, 3, figsize=(15,6))\n",
        "fig.suptitle('Histograms for some variables')\n",
        "sns.histplot(datacc['price'], ax=ax1)\n",
        "ax1.set_title('$Price$')\n",
        "sns.histplot(datacc['year'], ax=ax2)\n",
        "ax2.set_title('$Year$')\n",
        "sns.histplot(datacc['kms'], ax=ax3)\n",
        "ax3.set_title('$kms$')"
      ],
      "metadata": {
        "id": "HhIWoCmEqgap",
        "colab": {
          "base_uri": "https://localhost:8080/",
          "height": 619
        },
        "outputId": "495e91cb-3acc-4cc5-d41f-1f4bc2aefce2"
      },
      "id": "HhIWoCmEqgap",
      "execution_count": null,
      "outputs": [
        {
          "output_type": "execute_result",
          "data": {
            "text/plain": [
              "Text(0.5, 1.0, '$kms$')"
            ]
          },
          "metadata": {},
          "execution_count": 18
        },
        {
          "output_type": "display_data",
          "data": {
            "text/plain": [
              "<Figure size 1500x600 with 3 Axes>"
            ],
            "image/png": "[encoded data removed]"
          },
          "metadata": {}
        }
      ]
    },
    {
      "cell_type": "markdown",
      "id": "a2190f9b",
      "metadata": {
        "id": "a2190f9b"
      },
      "source": [
        "### EDA (Exploratory Data Analysis)"
      ]
    },
    {
      "cell_type": "markdown",
      "id": "cf139630",
      "metadata": {
        "id": "cf139630"
      },
      "source": [
        "#### Correlations"
      ]
    },
    {
      "cell_type": "code",
      "execution_count": null,
      "id": "8c0f031a",
      "metadata": {
        "id": "8c0f031a",
        "colab": {
          "base_uri": "https://localhost:8080/",
          "height": 1000
        },
        "outputId": "85ac55d1-30db-429d-e300-acd5492904a1"
      },
      "outputs": [
        {
          "output_type": "display_data",
          "data": {
            "text/plain": [
              "<Figure size 1500x1500 with 2 Axes>"
            ],
            "image/png": "[encoded data removed]"
          },
          "metadata": {}
        }
      ],
      "source": [
        "def correlation_heatmap(train):\n",
        "    correlations = train.corr()\n",
        "\n",
        "    fig, ax = plt.subplots(figsize=(15,15))\n",
        "    sns.heatmap(correlations, vmax=1.0, center=0, fmt='.2f', cmap=\"YlGnBu\",\n",
        "                square=True, linewidths=.2, annot=False, cbar_kws={\"shrink\": .95}\n",
        "                )\n",
        "    plt.show();\n",
        "\n",
        "# Definimos X como el subconjunto de 'data' que contiene las columnas 'year' y 'kms'\n",
        "X = data[['year', 'kms']]\n",
        "\n",
        "# Ahora puedes llamar a tu función\n",
        "correlation_heatmap(X)"
      ]
    },
    {
      "cell_type": "code",
      "execution_count": null,
      "id": "6e23955d",
      "metadata": {
        "id": "6e23955d",
        "colab": {
          "base_uri": "https://localhost:8080/",
          "height": 524
        },
        "outputId": "5dbf223f-5ef0-4346-ede3-52d9985cc680"
      },
      "outputs": [
        {
          "output_type": "execute_result",
          "data": {
            "text/plain": [
              "<seaborn.axisgrid.PairGrid at 0x799530f71b10>"
            ]
          },
          "metadata": {},
          "execution_count": 21
        },
        {
          "output_type": "display_data",
          "data": {
            "text/plain": [
              "<Figure size 500x500 with 4 Axes>"
            ],
            "image/png": "[encoded data removed]"
          },
          "metadata": {}
        }
      ],
      "source": [
        "g = sns.PairGrid(X[['year', 'kms']])\n",
        "g.map(sns.scatterplot)"
      ]
    },
    {
      "cell_type": "markdown",
      "id": "b328b436",
      "metadata": {
        "id": "b328b436"
      },
      "source": [
        "## Modeling: machine learning"
      ]
    },
    {
      "cell_type": "markdown",
      "id": "c0cac588",
      "metadata": {
        "id": "c0cac588"
      },
      "source": [
        "### Libraries"
      ]
    },
    {
      "cell_type": "markdown",
      "source": [],
      "metadata": {
        "id": "v0VQ36eOxSeD"
      },
      "id": "v0VQ36eOxSeD"
    },
    {
      "cell_type": "code",
      "execution_count": null,
      "id": "e42a7a9f",
      "metadata": {
        "id": "e42a7a9f"
      },
      "outputs": [],
      "source": [
        "from sklearn.preprocessing import StandardScaler\n",
        "from sklearn.model_selection import train_test_split as split\n",
        "from sklearn.linear_model import LinearRegression\n",
        "from sklearn.metrics import mean_squared_error as MSE, r2_score\n",
        "from sklearn.metrics import mean_absolute_error as MAE\n",
        "import pickle"
      ]
    },
    {
      "cell_type": "markdown",
      "id": "cf09ba88",
      "metadata": {
        "id": "cf09ba88"
      },
      "source": [
        "### Data partitioning\n"
      ]
    },
    {
      "cell_type": "code",
      "execution_count": null,
      "id": "0ce7274b",
      "metadata": {
        "id": "0ce7274b",
        "colab": {
          "base_uri": "https://localhost:8080/"
        },
        "outputId": "b06268a8-79f1-4cc6-b386-87eaa1637ff5"
      },
      "outputs": [
        {
          "output_type": "stream",
          "name": "stdout",
          "text": [
            "(51, 4)\n",
            "(51,)\n"
          ]
        }
      ],
      "source": [
        "X = datacc.copy()\n",
        "X = X.drop(['price'], axis=1)\n",
        "print(X.shape)\n",
        "\n",
        "Y = pd.DataFrame()\n",
        "Y = datacc['price']\n",
        "print(Y.shape)"
      ]
    },
    {
      "cell_type": "code",
      "execution_count": null,
      "id": "d1c218b0",
      "metadata": {
        "id": "d1c218b0",
        "colab": {
          "base_uri": "https://localhost:8080/"
        },
        "outputId": "d5afddad-5dd3-4193-a718-c66894262b2d"
      },
      "outputs": [
        {
          "output_type": "execute_result",
          "data": {
            "text/plain": [
              "(51, 4)"
            ]
          },
          "metadata": {},
          "execution_count": 24
        }
      ],
      "source": [
        "# Data set normalization and partitioning\n",
        "sc = StandardScaler()\n",
        "Xsc = sc.fit(X)\n",
        "Xt = Xsc.transform(X)\n",
        "Xt.shape"
      ]
    },
    {
      "cell_type": "code",
      "execution_count": null,
      "id": "b4a2dcc8",
      "metadata": {
        "id": "b4a2dcc8"
      },
      "outputs": [],
      "source": [
        "X_train, X_test, y_train, y_test = split(Xt,Y,\n",
        "                                         test_size=0.20,\n",
        "                                         random_state=42)"
      ]
    },
    {
      "cell_type": "markdown",
      "id": "a75c11f1",
      "metadata": {
        "id": "a75c11f1"
      },
      "source": [
        "### Multivariate lineal regression"
      ]
    },
    {
      "cell_type": "code",
      "execution_count": null,
      "id": "68141262",
      "metadata": {
        "id": "68141262"
      },
      "outputs": [],
      "source": [
        "# Define model and prediction\n",
        "ols = LinearRegression()\n",
        "model1 = ols.fit(X_train, y_train)\n",
        "y_pred1 = model1.predict(X_test)"
      ]
    },
    {
      "cell_type": "code",
      "execution_count": null,
      "id": "29763683",
      "metadata": {
        "id": "29763683",
        "colab": {
          "base_uri": "https://localhost:8080/"
        },
        "outputId": "a924aab5-354a-4805-8ed5-33d153c8f702"
      },
      "outputs": [
        {
          "output_type": "stream",
          "name": "stdout",
          "text": [
            "RMSE: 54540239.70\n",
            "MAE: 40189490.00\n",
            "R2: 0.19\n"
          ]
        }
      ],
      "source": [
        "# accuracy check\n",
        "rmse = MSE(y_test, y_pred1, squared=False)\n",
        "mae = MAE(y_test, y_pred1)\n",
        "r2 = r2_score(y_test, y_pred1)\n",
        "print(\"RMSE: %.2f\" % rmse)\n",
        "print(\"MAE: %.2f\" % mae)\n",
        "print(\"R2: %.2f\" % r2)"
      ]
    },
    {
      "cell_type": "markdown",
      "id": "b98a2822",
      "metadata": {
        "id": "b98a2822"
      },
      "source": [
        "### Light GBM\n",
        "https://www.analyticsvidhya.com/blog/2021/08/complete-guide-on-how-to-use-lightgbm-in-python/   \n",
        "https://www.datatechnotes.com/2022/03/lightgbm-regression-example-in-python.html  "
      ]
    },
    {
      "cell_type": "code",
      "execution_count": null,
      "id": "9ae5d7a5",
      "metadata": {
        "id": "9ae5d7a5",
        "colab": {
          "base_uri": "https://localhost:8080/"
        },
        "outputId": "587efc87-b379-480e-f291-de7d0fec5da9"
      },
      "outputs": [
        {
          "output_type": "stream",
          "name": "stdout",
          "text": [
            "Requirement already satisfied: lightgbm in /usr/local/lib/python3.10/dist-packages (4.1.0)\n",
            "Requirement already satisfied: numpy in /usr/local/lib/python3.10/dist-packages (from lightgbm) (1.25.2)\n",
            "Requirement already satisfied: scipy in /usr/local/lib/python3.10/dist-packages (from lightgbm) (1.11.4)\n"
          ]
        }
      ],
      "source": [
        "!pip install lightgbm"
      ]
    },
    {
      "cell_type": "code",
      "execution_count": null,
      "id": "8cc798fa",
      "metadata": {
        "id": "8cc798fa"
      },
      "outputs": [],
      "source": [
        "import lightgbm as lgb"
      ]
    },
    {
      "cell_type": "code",
      "execution_count": null,
      "id": "8742c9fb",
      "metadata": {
        "id": "8742c9fb",
        "colab": {
          "base_uri": "https://localhost:8080/"
        },
        "outputId": "4671b49a-0799-4284-e850-3bca0ba1e5c4"
      },
      "outputs": [
        {
          "output_type": "stream",
          "name": "stdout",
          "text": [
            "[LightGBM] [Warning] No further splits with positive gain, best gain: -inf\n",
            "[LightGBM] [Warning] No further splits with positive gain, best gain: -inf\n",
            "[LightGBM] [Warning] No further splits with positive gain, best gain: -inf\n",
            "[LightGBM] [Warning] No further splits with positive gain, best gain: -inf\n",
            "[LightGBM] [Warning] No further splits with positive gain, best gain: -inf\n",
            "[LightGBM] [Warning] No further splits with positive gain, best gain: -inf\n",
            "[LightGBM] [Warning] No further splits with positive gain, best gain: -inf\n",
            "[LightGBM] [Warning] No further splits with positive gain, best gain: -inf\n",
            "[LightGBM] [Warning] No further splits with positive gain, best gain: -inf\n",
            "[LightGBM] [Warning] No further splits with positive gain, best gain: -inf\n",
            "[LightGBM] [Warning] No further splits with positive gain, best gain: -inf\n",
            "[LightGBM] [Warning] No further splits with positive gain, best gain: -inf\n",
            "[LightGBM] [Warning] No further splits with positive gain, best gain: -inf\n",
            "[LightGBM] [Warning] No further splits with positive gain, best gain: -inf\n",
            "[LightGBM] [Warning] No further splits with positive gain, best gain: -inf\n",
            "[LightGBM] [Warning] No further splits with positive gain, best gain: -inf\n",
            "[LightGBM] [Warning] No further splits with positive gain, best gain: -inf\n",
            "[LightGBM] [Warning] No further splits with positive gain, best gain: -inf\n",
            "[LightGBM] [Warning] No further splits with positive gain, best gain: -inf\n",
            "[LightGBM] [Warning] No further splits with positive gain, best gain: -inf\n",
            "[LightGBM] [Warning] No further splits with positive gain, best gain: -inf\n",
            "[LightGBM] [Warning] No further splits with positive gain, best gain: -inf\n",
            "[LightGBM] [Warning] No further splits with positive gain, best gain: -inf\n",
            "[LightGBM] [Warning] No further splits with positive gain, best gain: -inf\n",
            "[LightGBM] [Warning] No further splits with positive gain, best gain: -inf\n",
            "[LightGBM] [Warning] No further splits with positive gain, best gain: -inf\n",
            "[LightGBM] [Warning] No further splits with positive gain, best gain: -inf\n",
            "[LightGBM] [Warning] No further splits with positive gain, best gain: -inf\n",
            "[LightGBM] [Warning] No further splits with positive gain, best gain: -inf\n",
            "[LightGBM] [Warning] No further splits with positive gain, best gain: -inf\n",
            "[LightGBM] [Warning] No further splits with positive gain, best gain: -inf\n",
            "[LightGBM] [Warning] No further splits with positive gain, best gain: -inf\n",
            "[LightGBM] [Warning] No further splits with positive gain, best gain: -inf\n",
            "[LightGBM] [Warning] No further splits with positive gain, best gain: -inf\n",
            "[LightGBM] [Warning] No further splits with positive gain, best gain: -inf\n",
            "[LightGBM] [Warning] No further splits with positive gain, best gain: -inf\n",
            "[LightGBM] [Warning] No further splits with positive gain, best gain: -inf\n",
            "[LightGBM] [Warning] No further splits with positive gain, best gain: -inf\n",
            "[LightGBM] [Warning] No further splits with positive gain, best gain: -inf\n",
            "[LightGBM] [Warning] No further splits with positive gain, best gain: -inf\n",
            "[LightGBM] [Warning] No further splits with positive gain, best gain: -inf\n",
            "[LightGBM] [Warning] No further splits with positive gain, best gain: -inf\n",
            "[LightGBM] [Warning] No further splits with positive gain, best gain: -inf\n",
            "[LightGBM] [Warning] No further splits with positive gain, best gain: -inf\n",
            "[LightGBM] [Warning] No further splits with positive gain, best gain: -inf\n",
            "[LightGBM] [Warning] No further splits with positive gain, best gain: -inf\n",
            "[LightGBM] [Warning] No further splits with positive gain, best gain: -inf\n",
            "[LightGBM] [Warning] No further splits with positive gain, best gain: -inf\n",
            "[LightGBM] [Warning] No further splits with positive gain, best gain: -inf\n",
            "[LightGBM] [Warning] No further splits with positive gain, best gain: -inf\n",
            "[LightGBM] [Warning] No further splits with positive gain, best gain: -inf\n",
            "[LightGBM] [Warning] No further splits with positive gain, best gain: -inf\n",
            "[LightGBM] [Warning] No further splits with positive gain, best gain: -inf\n",
            "[LightGBM] [Warning] No further splits with positive gain, best gain: -inf\n",
            "[LightGBM] [Warning] No further splits with positive gain, best gain: -inf\n",
            "[LightGBM] [Warning] No further splits with positive gain, best gain: -inf\n",
            "[LightGBM] [Warning] No further splits with positive gain, best gain: -inf\n",
            "[LightGBM] [Warning] No further splits with positive gain, best gain: -inf\n",
            "[LightGBM] [Warning] No further splits with positive gain, best gain: -inf\n",
            "[LightGBM] [Warning] No further splits with positive gain, best gain: -inf\n",
            "[LightGBM] [Warning] No further splits with positive gain, best gain: -inf\n",
            "[LightGBM] [Warning] No further splits with positive gain, best gain: -inf\n",
            "[LightGBM] [Warning] No further splits with positive gain, best gain: -inf\n",
            "[LightGBM] [Warning] No further splits with positive gain, best gain: -inf\n",
            "[LightGBM] [Warning] No further splits with positive gain, best gain: -inf\n",
            "[LightGBM] [Warning] No further splits with positive gain, best gain: -inf\n",
            "[LightGBM] [Warning] No further splits with positive gain, best gain: -inf\n",
            "[LightGBM] [Warning] No further splits with positive gain, best gain: -inf\n",
            "[LightGBM] [Warning] No further splits with positive gain, best gain: -inf\n",
            "[LightGBM] [Warning] No further splits with positive gain, best gain: -inf\n",
            "[LightGBM] [Warning] No further splits with positive gain, best gain: -inf\n",
            "[LightGBM] [Warning] No further splits with positive gain, best gain: -inf\n",
            "[LightGBM] [Warning] No further splits with positive gain, best gain: -inf\n",
            "[LightGBM] [Warning] No further splits with positive gain, best gain: -inf\n",
            "[LightGBM] [Warning] No further splits with positive gain, best gain: -inf\n",
            "[LightGBM] [Warning] No further splits with positive gain, best gain: -inf\n",
            "[LightGBM] [Warning] No further splits with positive gain, best gain: -inf\n",
            "[LightGBM] [Warning] No further splits with positive gain, best gain: -inf\n",
            "[LightGBM] [Warning] No further splits with positive gain, best gain: -inf\n",
            "[LightGBM] [Warning] No further splits with positive gain, best gain: -inf\n",
            "[LightGBM] [Warning] No further splits with positive gain, best gain: -inf\n",
            "[LightGBM] [Warning] No further splits with positive gain, best gain: -inf\n",
            "[LightGBM] [Warning] No further splits with positive gain, best gain: -inf\n",
            "[LightGBM] [Warning] No further splits with positive gain, best gain: -inf\n",
            "[LightGBM] [Warning] No further splits with positive gain, best gain: -inf\n",
            "[LightGBM] [Warning] No further splits with positive gain, best gain: -inf\n",
            "[LightGBM] [Warning] No further splits with positive gain, best gain: -inf\n",
            "[LightGBM] [Warning] No further splits with positive gain, best gain: -inf\n",
            "[LightGBM] [Warning] No further splits with positive gain, best gain: -inf\n",
            "[LightGBM] [Warning] No further splits with positive gain, best gain: -inf\n",
            "[LightGBM] [Warning] No further splits with positive gain, best gain: -inf\n",
            "[LightGBM] [Warning] No further splits with positive gain, best gain: -inf\n",
            "[LightGBM] [Warning] No further splits with positive gain, best gain: -inf\n",
            "[LightGBM] [Warning] No further splits with positive gain, best gain: -inf\n",
            "[LightGBM] [Warning] No further splits with positive gain, best gain: -inf\n",
            "[LightGBM] [Warning] No further splits with positive gain, best gain: -inf\n",
            "[LightGBM] [Warning] No further splits with positive gain, best gain: -inf\n",
            "[LightGBM] [Warning] No further splits with positive gain, best gain: -inf\n",
            "[LightGBM] [Warning] No further splits with positive gain, best gain: -inf\n",
            "[LightGBM] [Warning] No further splits with positive gain, best gain: -inf\n"
          ]
        }
      ],
      "source": [
        "# Hyperparameters\n",
        "params = {\n",
        "    'task': 'train',\n",
        "    'boosting': 'gbdt',\n",
        "    'objective': 'regression',\n",
        "    'num_leaves': 10,\n",
        "    'learning_rate': 0.05,\n",
        "    'metric': {'l2','l1'},\n",
        "    'header' : 'true',\n",
        "    'verbose': 0\n",
        "}\n",
        "\n",
        "# laoding data\n",
        "lgb_train = lgb.Dataset(X_train, y_train)\n",
        "lgb_eval = lgb.Dataset(X_test, y_test, reference=lgb_train)\n",
        "\n",
        "# fitting the model\n",
        "model2 = lgb.train(params,\n",
        "                 train_set=lgb_train,\n",
        "                 valid_sets=lgb_eval)\n",
        "# Pred\n",
        "y_pred2 = model2.predict(X_test)"
      ]
    },
    {
      "cell_type": "code",
      "execution_count": null,
      "id": "future-recruitment",
      "metadata": {
        "id": "future-recruitment",
        "colab": {
          "base_uri": "https://localhost:8080/"
        },
        "outputId": "4b31ef25-6100-4cee-87a1-3b1b362c4348"
      },
      "outputs": [
        {
          "output_type": "stream",
          "name": "stdout",
          "text": [
            "RMSE: 51233954.19\n",
            "MAE: 33982890.29\n",
            "R2: 0.29\n"
          ]
        }
      ],
      "source": [
        "# accuracy check\n",
        "rmse = MSE(y_test, y_pred2, squared=False)\n",
        "mae = MAE(y_test, y_pred2)\n",
        "r2 = r2_score(y_test, y_pred2)\n",
        "print(\"RMSE: %.2f\" % rmse)\n",
        "print(\"MAE: %.2f\" % mae)\n",
        "print(\"R2: %.2f\" % r2)"
      ]
    },
    {
      "cell_type": "code",
      "execution_count": null,
      "id": "35d67d4f",
      "metadata": {
        "id": "35d67d4f",
        "colab": {
          "base_uri": "https://localhost:8080/",
          "height": 564
        },
        "outputId": "8a257fba-aac4-4d44-fd2a-7ac695f92f3f"
      },
      "outputs": [
        {
          "output_type": "display_data",
          "data": {
            "text/plain": [
              "<Figure size 1200x600 with 1 Axes>"
            ],
            "image/png": "[encoded data removed]"
          },
          "metadata": {}
        }
      ],
      "source": [
        "# visualizing in a plot\n",
        "x_ax = range(len(y_test))\n",
        "plt.figure(figsize=(12, 6))\n",
        "plt.plot(x_ax, y_test, label=\"original\")\n",
        "plt.plot(x_ax, y_pred2, label=\"predicted\")\n",
        "plt.title(\"Original and predicted car prices\")\n",
        "plt.xlabel('X')\n",
        "plt.ylabel('Price')\n",
        "plt.legend(loc='best', fancybox=True, shadow=True)\n",
        "plt.grid(True)\n",
        "plt.show()"
      ]
    },
    {
      "cell_type": "code",
      "execution_count": null,
      "id": "6a4ef815",
      "metadata": {
        "id": "6a4ef815",
        "colab": {
          "base_uri": "https://localhost:8080/",
          "height": 472
        },
        "outputId": "38de3199-e512-47b5-e523-561f36a1cf5f"
      },
      "outputs": [
        {
          "output_type": "display_data",
          "data": {
            "text/plain": [
              "<Figure size 640x480 with 1 Axes>"
            ],
            "image/png": "[encoded data removed]"
          },
          "metadata": {}
        }
      ],
      "source": [
        "# plotting feature importance\n",
        "ax = lgb.plot_importance(model2, height=.5, title=\"LightGBM Feature Importance\")\n"
      ]
    },
    {
      "cell_type": "code",
      "execution_count": null,
      "id": "cd3c6abe",
      "metadata": {
        "id": "cd3c6abe",
        "colab": {
          "base_uri": "https://localhost:8080/",
          "height": 396
        },
        "outputId": "75120f5c-ab09-4292-a63f-ab14203314e8"
      },
      "outputs": [
        {
          "output_type": "execute_result",
          "data": {
            "text/plain": [
              "<Axes: >"
            ]
          },
          "metadata": {},
          "execution_count": 35
        },
        {
          "output_type": "display_data",
          "data": {
            "text/plain": [
              "<Figure size 3000x4000 with 1 Axes>"
            ],
            "image/png": "[encoded data removed]"
          },
          "metadata": {}
        }
      ],
      "source": [
        "lgb.plot_tree(model2,figsize=(30,40))"
      ]
    },
    {
      "cell_type": "markdown",
      "id": "9bf1253e",
      "metadata": {
        "id": "9bf1253e"
      },
      "source": [
        "### Random Forest Regressor"
      ]
    },
    {
      "cell_type": "code",
      "execution_count": null,
      "id": "2aedaac1",
      "metadata": {
        "id": "2aedaac1"
      },
      "outputs": [],
      "source": [
        "from sklearn.ensemble import RandomForestRegressor"
      ]
    },
    {
      "cell_type": "code",
      "execution_count": null,
      "id": "0adbba9f",
      "metadata": {
        "id": "0adbba9f"
      },
      "outputs": [],
      "source": [
        "model3 = RandomForestRegressor()\n",
        "model3.fit(X_train, y_train)\n",
        "y_pred3 = model3.predict(X_test)"
      ]
    },
    {
      "cell_type": "code",
      "execution_count": null,
      "id": "sunset-killer",
      "metadata": {
        "id": "sunset-killer",
        "colab": {
          "base_uri": "https://localhost:8080/"
        },
        "outputId": "bb08e2c8-1a0d-4df5-e999-5b50f1b3bfdb"
      },
      "outputs": [
        {
          "output_type": "stream",
          "name": "stdout",
          "text": [
            "RMSE: 50285436.50\n",
            "MAE: 37641769.37\n",
            "R2: 0.31\n"
          ]
        }
      ],
      "source": [
        "# accuracy check\n",
        "rmse = MSE(y_test, y_pred3, squared=False)\n",
        "mae = MAE(y_test, y_pred3)\n",
        "r2 = r2_score(y_test, y_pred3)\n",
        "print(\"RMSE: %.2f\" % rmse)\n",
        "print(\"MAE: %.2f\" % mae)\n",
        "print(\"R2: %.2f\" % r2)"
      ]
    },
    {
      "cell_type": "markdown",
      "source": [
        "**Save the model**"
      ],
      "metadata": {
        "id": "qx5ZKifXyIsI"
      },
      "id": "qx5ZKifXyIsI"
    },
    {
      "cell_type": "code",
      "source": [
        "with open('model3.pkl', 'wb') as f:\n",
        "  pickle.dump(model3, f)"
      ],
      "metadata": {
        "id": "N_LGgW4byL1H"
      },
      "id": "N_LGgW4byL1H",
      "execution_count": null,
      "outputs": []
    },
    {
      "cell_type": "markdown",
      "id": "b10c4f5a",
      "metadata": {
        "id": "b10c4f5a"
      },
      "source": [
        "### Xgboost regressor\n",
        "https://www.datatechnotes.com/2019/06/regression-example-with-xgbregressor-in.html"
      ]
    },
    {
      "cell_type": "code",
      "execution_count": null,
      "id": "457560d3",
      "metadata": {
        "id": "457560d3"
      },
      "outputs": [],
      "source": [
        "from sklearn.model_selection import cross_val_score, KFold\n",
        "import xgboost as xgb\n",
        "from sklearn.metrics import classification_report"
      ]
    },
    {
      "cell_type": "code",
      "execution_count": null,
      "id": "c0212d2b",
      "metadata": {
        "id": "c0212d2b"
      },
      "outputs": [],
      "source": [
        "#Define model\n",
        "model4 = xgb.XGBRegressor(objective ='reg:squarederror',\n",
        "                          booster='gbtree',\n",
        "                          colsample_bytree = 1,\n",
        "                          importance_type='gain',\n",
        "                          learning_rate = 0.2,\n",
        "                          max_depth = 5,\n",
        "                          alpha = 5,\n",
        "                          n_estimators = 200,\n",
        "                          seed=123)"
      ]
    },
    {
      "cell_type": "code",
      "execution_count": null,
      "id": "0b4086fc",
      "metadata": {
        "id": "0b4086fc",
        "colab": {
          "base_uri": "https://localhost:8080/",
          "height": 231
        },
        "outputId": "6718320a-391a-4c0b-9a2f-660d6fa031cc"
      },
      "outputs": [
        {
          "output_type": "execute_result",
          "data": {
            "text/plain": [
              "XGBRegressor(alpha=5, base_score=None, booster='gbtree', callbacks=None,\n",
              "             colsample_bylevel=None, colsample_bynode=None, colsample_bytree=1,\n",
              "             device=None, early_stopping_rounds=None, enable_categorical=False,\n",
              "             eval_metric=None, feature_types=None, gamma=None, grow_policy=None,\n",
              "             importance_type='gain', interaction_constraints=None,\n",
              "             learning_rate=0.2, max_bin=None, max_cat_threshold=None,\n",
              "             max_cat_to_onehot=None, max_delta_step=None, max_depth=5,\n",
              "             max_leaves=None, min_child_weight=None, missing=nan,\n",
              "             monotone_constraints=None, multi_strategy=None, n_estimators=200,\n",
              "             n_jobs=None, num_parallel_tree=None, ...)"
            ],
            "text/html": [
              "<style>#sk-container-id-1 {color: black;background-color: white;}#sk-container-id-1 pre{padding: 0;}#sk-container-id-1 div.sk-toggleable {background-color: white;}#sk-container-id-1 label.sk-toggleable__label {cursor: pointer;display: block;width: 100%;margin-bottom: 0;padding: 0.3em;box-sizing: border-box;text-align: center;}#sk-container-id-1 label.sk-toggleable__label-arrow:before {content: \"▸\";float: left;margin-right: 0.25em;color: #696969;}#sk-container-id-1 label.sk-toggleable__label-arrow:hover:before {color: black;}#sk-container-id-1 div.sk-estimator:hover label.sk-toggleable__label-arrow:before {color: black;}#sk-container-id-1 div.sk-toggleable__content {max-height: 0;max-width: 0;overflow: hidden;text-align: left;background-color: #f0f8ff;}#sk-container-id-1 div.sk-toggleable__content pre {margin: 0.2em;color: black;border-radius: 0.25em;background-color: #f0f8ff;}#sk-container-id-1 input.sk-toggleable__control:checked~div.sk-toggleable__content {max-height: 200px;max-width: 100%;overflow: auto;}#sk-container-id-1 input.sk-toggleable__control:checked~label.sk-toggleable__label-arrow:before {content: \"▾\";}#sk-container-id-1 div.sk-estimator input.sk-toggleable__control:checked~label.sk-toggleable__label {background-color: #d4ebff;}#sk-container-id-1 div.sk-label input.sk-toggleable__control:checked~label.sk-toggleable__label {background-color: #d4ebff;}#sk-container-id-1 input.sk-hidden--visually {border: 0;clip: rect(1px 1px 1px 1px);clip: rect(1px, 1px, 1px, 1px);height: 1px;margin: -1px;overflow: hidden;padding: 0;position: absolute;width: 1px;}#sk-container-id-1 div.sk-estimator {font-family: monospace;background-color: #f0f8ff;border: 1px dotted black;border-radius: 0.25em;box-sizing: border-box;margin-bottom: 0.5em;}#sk-container-id-1 div.sk-estimator:hover {background-color: #d4ebff;}#sk-container-id-1 div.sk-parallel-item::after {content: \"\";width: 100%;border-bottom: 1px solid gray;flex-grow: 1;}#sk-container-id-1 div.sk-label:hover label.sk-toggleable__label {background-color: #d4ebff;}#sk-container-id-1 div.sk-serial::before {content: \"\";position: absolute;border-left: 1px solid gray;box-sizing: border-box;top: 0;bottom: 0;left: 50%;z-index: 0;}#sk-container-id-1 div.sk-serial {display: flex;flex-direction: column;align-items: center;background-color: white;padding-right: 0.2em;padding-left: 0.2em;position: relative;}#sk-container-id-1 div.sk-item {position: relative;z-index: 1;}#sk-container-id-1 div.sk-parallel {display: flex;align-items: stretch;justify-content: center;background-color: white;position: relative;}#sk-container-id-1 div.sk-item::before, #sk-container-id-1 div.sk-parallel-item::before {content: \"\";position: absolute;border-left: 1px solid gray;box-sizing: border-box;top: 0;bottom: 0;left: 50%;z-index: -1;}#sk-container-id-1 div.sk-parallel-item {display: flex;flex-direction: column;z-index: 1;position: relative;background-color: white;}#sk-container-id-1 div.sk-parallel-item:first-child::after {align-self: flex-end;width: 50%;}#sk-container-id-1 div.sk-parallel-item:last-child::after {align-self: flex-start;width: 50%;}#sk-container-id-1 div.sk-parallel-item:only-child::after {width: 0;}#sk-container-id-1 div.sk-dashed-wrapped {border: 1px dashed gray;margin: 0 0.4em 0.5em 0.4em;box-sizing: border-box;padding-bottom: 0.4em;background-color: white;}#sk-container-id-1 div.sk-label label {font-family: monospace;font-weight: bold;display: inline-block;line-height: 1.2em;}#sk-container-id-1 div.sk-label-container {text-align: center;}#sk-container-id-1 div.sk-container {/* jupyter's `normalize.less` sets `[hidden] { display: none; }` but bootstrap.min.css set `[hidden] { display: none !important; }` so we also need the `!important` here to be able to override the default hidden behavior on the sphinx rendered scikit-learn.org. See: https://github.com/scikit-learn/scikit-learn/issues/21755 */display: inline-block !important;position: relative;}#sk-container-id-1 div.sk-text-repr-fallback {display: none;}</style><div id=\"sk-container-id-1\" class=\"sk-top-container\"><div class=\"sk-text-repr-fallback\"><pre>XGBRegressor(alpha=5, base_score=None, booster=&#x27;gbtree&#x27;, callbacks=None,\n",
              "             colsample_bylevel=None, colsample_bynode=None, colsample_bytree=1,\n",
              "             device=None, early_stopping_rounds=None, enable_categorical=False,\n",
              "             eval_metric=None, feature_types=None, gamma=None, grow_policy=None,\n",
              "             importance_type=&#x27;gain&#x27;, interaction_constraints=None,\n",
              "             learning_rate=0.2, max_bin=None, max_cat_threshold=None,\n",
              "             max_cat_to_onehot=None, max_delta_step=None, max_depth=5,\n",
              "             max_leaves=None, min_child_weight=None, missing=nan,\n",
              "             monotone_constraints=None, multi_strategy=None, n_estimators=200,\n",
              "             n_jobs=None, num_parallel_tree=None, ...)</pre><b>In a Jupyter environment, please rerun this cell to show the HTML representation or trust the notebook. <br />On GitHub, the HTML representation is unable to render, please try loading this page with nbviewer.org.</b></div><div class=\"sk-container\" hidden><div class=\"sk-item\"><div class=\"sk-estimator sk-toggleable\"><input class=\"sk-toggleable__control sk-hidden--visually\" id=\"sk-estimator-id-1\" type=\"checkbox\" checked><label for=\"sk-estimator-id-1\" class=\"sk-toggleable__label sk-toggleable__label-arrow\">XGBRegressor</label><div class=\"sk-toggleable__content\"><pre>XGBRegressor(alpha=5, base_score=None, booster=&#x27;gbtree&#x27;, callbacks=None,\n",
              "             colsample_bylevel=None, colsample_bynode=None, colsample_bytree=1,\n",
              "             device=None, early_stopping_rounds=None, enable_categorical=False,\n",
              "             eval_metric=None, feature_types=None, gamma=None, grow_policy=None,\n",
              "             importance_type=&#x27;gain&#x27;, interaction_constraints=None,\n",
              "             learning_rate=0.2, max_bin=None, max_cat_threshold=None,\n",
              "             max_cat_to_onehot=None, max_delta_step=None, max_depth=5,\n",
              "             max_leaves=None, min_child_weight=None, missing=nan,\n",
              "             monotone_constraints=None, multi_strategy=None, n_estimators=200,\n",
              "             n_jobs=None, num_parallel_tree=None, ...)</pre></div></div></div></div></div>"
            ]
          },
          "metadata": {},
          "execution_count": 42
        }
      ],
      "source": [
        "#Training\n",
        "model4.fit(X_train, y_train)#,\n",
        "#         eval_set=[(X_train, y_train), (X_test, y_test)], \\\n",
        "#         eval_metric='mlogloss', verbose=False)"
      ]
    },
    {
      "cell_type": "code",
      "execution_count": null,
      "id": "8ccfd193",
      "metadata": {
        "id": "8ccfd193",
        "colab": {
          "base_uri": "https://localhost:8080/"
        },
        "outputId": "11e7b605-d290-4460-e1b9-9aab53a2a5b4"
      },
      "outputs": [
        {
          "output_type": "stream",
          "name": "stdout",
          "text": [
            "Mean cross-validation score: -2.43\n"
          ]
        }
      ],
      "source": [
        "#K-fold cross validation\n",
        "scores = cross_val_score(model4, X_train, y_train, cv=10)\n",
        "print(\"Mean cross-validation score: %.2f\" % scores.mean())"
      ]
    },
    {
      "cell_type": "code",
      "execution_count": null,
      "id": "98f07b41",
      "metadata": {
        "id": "98f07b41",
        "colab": {
          "base_uri": "https://localhost:8080/"
        },
        "outputId": "db5b6c6b-9569-4443-9c5b-1994d61bd8c7"
      },
      "outputs": [
        {
          "output_type": "stream",
          "name": "stdout",
          "text": [
            "K-fold CV average score: -3.23\n"
          ]
        }
      ],
      "source": [
        "kfold = KFold(n_splits=10, shuffle=True)\n",
        "kf_cv_scores = cross_val_score(model4, X_train, y_train, cv=kfold )\n",
        "print(\"K-fold CV average score: %.2f\" % kf_cv_scores.mean())"
      ]
    },
    {
      "cell_type": "code",
      "execution_count": null,
      "id": "27a2145a",
      "metadata": {
        "id": "27a2145a"
      },
      "outputs": [],
      "source": [
        "# Pred\n",
        "y_pred4 = model4.predict(X_test)"
      ]
    },
    {
      "cell_type": "code",
      "execution_count": null,
      "id": "wanted-cleveland",
      "metadata": {
        "id": "wanted-cleveland",
        "colab": {
          "base_uri": "https://localhost:8080/"
        },
        "outputId": "358ffad4-a303-4bc5-930e-f588061c32fa"
      },
      "outputs": [
        {
          "output_type": "stream",
          "name": "stdout",
          "text": [
            "RMSE: 49442799.25\n",
            "MAE: 39519828.00\n",
            "R2: 0.33\n"
          ]
        }
      ],
      "source": [
        "# accuracy check\n",
        "rmse = MSE(y_test, y_pred4, squared=False)\n",
        "mae = MAE(y_test, y_pred4)\n",
        "r2 = r2_score(y_test, y_pred4)\n",
        "print(\"RMSE: %.2f\" % rmse)\n",
        "print(\"MAE: %.2f\" % mae)\n",
        "print(\"R2: %.2f\" % r2)"
      ]
    },
    {
      "cell_type": "code",
      "execution_count": null,
      "id": "4c72aa60",
      "metadata": {
        "id": "4c72aa60",
        "colab": {
          "base_uri": "https://localhost:8080/",
          "height": 452
        },
        "outputId": "6d9b201d-0b4d-4422-b6bd-ad4ee05f694a"
      },
      "outputs": [
        {
          "output_type": "display_data",
          "data": {
            "text/plain": [
              "<Figure size 640x480 with 1 Axes>"
            ],
            "image/png": "[encoded data removed]"
          },
          "metadata": {}
        }
      ],
      "source": [
        "x_ax = range(len(y_test))\n",
        "plt.plot(x_ax, y_test, label=\"original\")\n",
        "plt.plot(x_ax, y_pred4, label=\"predicted\")\n",
        "plt.title(\"Car Prices: real vs. predicted\")\n",
        "plt.legend()\n",
        "plt.show()"
      ]
    }
  ],
  "metadata": {
    "kernelspec": {
      "display_name": "Python 3",
      "language": "python",
      "name": "python3"
    },
    "language_info": {
      "codemirror_mode": {
        "name": "ipython",
        "version": 3
      },
      "file_extension": ".py",
      "mimetype": "text/x-python",
      "name": "python",
      "nbconvert_exporter": "python",
      "pygments_lexer": "ipython3",
      "version": "3.7.7"
    },
    "colab": {
      "provenance": [],
      "include_colab_link": true
    }
  },
  "nbformat": 4,
  "nbformat_minor": 5
}